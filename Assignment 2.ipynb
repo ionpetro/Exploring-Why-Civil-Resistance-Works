{
 "cells": [
  {
   "cell_type": "markdown",
   "metadata": {},
   "source": [
    "## Exploring Why Civil Resistance Works"
   ]
  },
  {
   "cell_type": "code",
   "execution_count": 1,
   "metadata": {},
   "outputs": [],
   "source": [
    "import pandas as pd\n",
    "import numpy as np\n",
    "import matplotlib.pyplot as plt\n",
    "import seaborn as sns\n",
    "\n",
    "%matplotlib inline"
   ]
  },
  {
   "cell_type": "code",
   "execution_count": 2,
   "metadata": {},
   "outputs": [],
   "source": [
    "filepath = 'data/WCRWreplication.dta'\n",
    "data = pd.read_stata(filepath)"
   ]
  },
  {
   "cell_type": "code",
   "execution_count": 3,
   "metadata": {},
   "outputs": [
    {
     "data": {
      "text/plain": [
       "(323, 85)"
      ]
     },
     "execution_count": 3,
     "metadata": {},
     "output_type": "execute_result"
    }
   ],
   "source": [
    "data.shape"
   ]
  },
  {
   "cell_type": "code",
   "execution_count": 4,
   "metadata": {},
   "outputs": [
    {
     "data": {
      "text/plain": [
       "Index(['defect', 'outcome', 'peakmembership', 'eyear', 'byear', 'location',\n",
       "       'campaign', 'target', 'lccode', 'tccode', 'nonviol', 'viol', 'fselfdet',\n",
       "       'regchange', 'secession', 'other', 'success', 'limited', 'failure',\n",
       "       'ongoing', 'middleeast', 'americas', 'asia', 'fsu', 'europe', 'africa',\n",
       "       'lpolity', 'tpolity', 'lgovcap', 'tgovcap', 'regviol', 'violsim',\n",
       "       'extfor', 'statesup', 'regaid', 'sdirect', 'deltatpolity', 'deltatgdp',\n",
       "       'lduration', 'lmembers', 't1', 't2', 't3', 't4', 't5', 't6', 't7', 't8',\n",
       "       't9', 't10', 't11', 'cw', 'postcw', 'ixnNVmem', 'rgdppc',\n",
       "       'growthrgdppc', 'lupop', 'recur5', 'recur10', 'polityt10', 'polityt1',\n",
       "       'polityt5', 'politychanget10', 'politychanget1', 'politychanget5',\n",
       "       'politychanget0', 'authdum', 'deltatgovcap', 'memdum', 'lnpop',\n",
       "       'ixnNVpc', 'lpolity1', 'lcinc1', 'lgdppc', 'wars', 'lmtnest', 'ef',\n",
       "       'loclpolity1', 'loclcap1', 'loclcap2', 'loclcap3', 'loclcap4', 'mempc',\n",
       "       'demdum', 'recur1'],\n",
       "      dtype='object')"
      ]
     },
     "execution_count": 4,
     "metadata": {},
     "output_type": "execute_result"
    }
   ],
   "source": [
    "data.columns"
   ]
  },
  {
   "cell_type": "markdown",
   "metadata": {},
   "source": [
    "### Question 1"
   ]
  },
  {
   "cell_type": "code",
   "execution_count": 5,
   "metadata": {},
   "outputs": [],
   "source": [
    "violgroup = data.groupby(['eyear', 'viol']).count()\n",
    "violgroup.reset_index(inplace=True)\n",
    "\n",
    "#maybe this is not needed\n",
    "nonviolgroup = data.groupby(['eyear', 'nonviol']).count()\n",
    "nonviolgroup.reset_index(inplace=True)"
   ]
  },
  {
   "cell_type": "code",
   "execution_count": 6,
   "metadata": {},
   "outputs": [],
   "source": [
    "violent = violgroup.loc[violgroup.viol == 1]\n",
    "nonviolent = violgroup.loc[violgroup.viol == 0]"
   ]
  },
  {
   "cell_type": "code",
   "execution_count": 7,
   "metadata": {},
   "outputs": [
    {
     "data": {
      "text/html": [
       "<div>\n",
       "<style scoped>\n",
       "    .dataframe tbody tr th:only-of-type {\n",
       "        vertical-align: middle;\n",
       "    }\n",
       "\n",
       "    .dataframe tbody tr th {\n",
       "        vertical-align: top;\n",
       "    }\n",
       "\n",
       "    .dataframe thead th {\n",
       "        text-align: right;\n",
       "    }\n",
       "</style>\n",
       "<table border=\"1\" class=\"dataframe\">\n",
       "  <thead>\n",
       "    <tr style=\"text-align: right;\">\n",
       "      <th></th>\n",
       "      <th>eyear</th>\n",
       "      <th>viol</th>\n",
       "      <th>defect</th>\n",
       "      <th>outcome</th>\n",
       "      <th>peakmembership</th>\n",
       "      <th>byear</th>\n",
       "      <th>location</th>\n",
       "      <th>campaign</th>\n",
       "      <th>target</th>\n",
       "      <th>lccode</th>\n",
       "      <th>...</th>\n",
       "      <th>lmtnest</th>\n",
       "      <th>ef</th>\n",
       "      <th>loclpolity1</th>\n",
       "      <th>loclcap1</th>\n",
       "      <th>loclcap2</th>\n",
       "      <th>loclcap3</th>\n",
       "      <th>loclcap4</th>\n",
       "      <th>mempc</th>\n",
       "      <th>demdum</th>\n",
       "      <th>recur1</th>\n",
       "    </tr>\n",
       "  </thead>\n",
       "  <tbody>\n",
       "    <tr>\n",
       "      <td>11</td>\n",
       "      <td>1919</td>\n",
       "      <td>0</td>\n",
       "      <td>1</td>\n",
       "      <td>1</td>\n",
       "      <td>1</td>\n",
       "      <td>1</td>\n",
       "      <td>1</td>\n",
       "      <td>1</td>\n",
       "      <td>1</td>\n",
       "      <td>1</td>\n",
       "      <td>...</td>\n",
       "      <td>0</td>\n",
       "      <td>0</td>\n",
       "      <td>1</td>\n",
       "      <td>1</td>\n",
       "      <td>1</td>\n",
       "      <td>1</td>\n",
       "      <td>1</td>\n",
       "      <td>0</td>\n",
       "      <td>1</td>\n",
       "      <td>0</td>\n",
       "    </tr>\n",
       "    <tr>\n",
       "      <td>16</td>\n",
       "      <td>1923</td>\n",
       "      <td>0</td>\n",
       "      <td>1</td>\n",
       "      <td>1</td>\n",
       "      <td>0</td>\n",
       "      <td>1</td>\n",
       "      <td>1</td>\n",
       "      <td>1</td>\n",
       "      <td>1</td>\n",
       "      <td>1</td>\n",
       "      <td>...</td>\n",
       "      <td>0</td>\n",
       "      <td>0</td>\n",
       "      <td>1</td>\n",
       "      <td>1</td>\n",
       "      <td>1</td>\n",
       "      <td>1</td>\n",
       "      <td>1</td>\n",
       "      <td>0</td>\n",
       "      <td>1</td>\n",
       "      <td>0</td>\n",
       "    </tr>\n",
       "    <tr>\n",
       "      <td>23</td>\n",
       "      <td>1931</td>\n",
       "      <td>0</td>\n",
       "      <td>1</td>\n",
       "      <td>1</td>\n",
       "      <td>0</td>\n",
       "      <td>1</td>\n",
       "      <td>1</td>\n",
       "      <td>1</td>\n",
       "      <td>1</td>\n",
       "      <td>1</td>\n",
       "      <td>...</td>\n",
       "      <td>0</td>\n",
       "      <td>0</td>\n",
       "      <td>1</td>\n",
       "      <td>1</td>\n",
       "      <td>1</td>\n",
       "      <td>1</td>\n",
       "      <td>1</td>\n",
       "      <td>0</td>\n",
       "      <td>1</td>\n",
       "      <td>0</td>\n",
       "    </tr>\n",
       "    <tr>\n",
       "      <td>30</td>\n",
       "      <td>1944</td>\n",
       "      <td>0</td>\n",
       "      <td>4</td>\n",
       "      <td>4</td>\n",
       "      <td>2</td>\n",
       "      <td>4</td>\n",
       "      <td>4</td>\n",
       "      <td>4</td>\n",
       "      <td>4</td>\n",
       "      <td>4</td>\n",
       "      <td>...</td>\n",
       "      <td>0</td>\n",
       "      <td>0</td>\n",
       "      <td>2</td>\n",
       "      <td>2</td>\n",
       "      <td>2</td>\n",
       "      <td>2</td>\n",
       "      <td>2</td>\n",
       "      <td>0</td>\n",
       "      <td>3</td>\n",
       "      <td>0</td>\n",
       "    </tr>\n",
       "    <tr>\n",
       "      <td>32</td>\n",
       "      <td>1945</td>\n",
       "      <td>0</td>\n",
       "      <td>1</td>\n",
       "      <td>1</td>\n",
       "      <td>1</td>\n",
       "      <td>1</td>\n",
       "      <td>1</td>\n",
       "      <td>1</td>\n",
       "      <td>1</td>\n",
       "      <td>1</td>\n",
       "      <td>...</td>\n",
       "      <td>0</td>\n",
       "      <td>0</td>\n",
       "      <td>0</td>\n",
       "      <td>0</td>\n",
       "      <td>0</td>\n",
       "      <td>0</td>\n",
       "      <td>0</td>\n",
       "      <td>0</td>\n",
       "      <td>1</td>\n",
       "      <td>0</td>\n",
       "    </tr>\n",
       "  </tbody>\n",
       "</table>\n",
       "<p>5 rows × 85 columns</p>\n",
       "</div>"
      ],
      "text/plain": [
       "    eyear  viol  defect  outcome  peakmembership  byear  location  campaign  \\\n",
       "11   1919     0       1        1               1      1         1         1   \n",
       "16   1923     0       1        1               0      1         1         1   \n",
       "23   1931     0       1        1               0      1         1         1   \n",
       "30   1944     0       4        4               2      4         4         4   \n",
       "32   1945     0       1        1               1      1         1         1   \n",
       "\n",
       "    target  lccode  ...  lmtnest  ef  loclpolity1  loclcap1  loclcap2  \\\n",
       "11       1       1  ...        0   0            1         1         1   \n",
       "16       1       1  ...        0   0            1         1         1   \n",
       "23       1       1  ...        0   0            1         1         1   \n",
       "30       4       4  ...        0   0            2         2         2   \n",
       "32       1       1  ...        0   0            0         0         0   \n",
       "\n",
       "    loclcap3  loclcap4  mempc  demdum  recur1  \n",
       "11         1         1      0       1       0  \n",
       "16         1         1      0       1       0  \n",
       "23         1         1      0       1       0  \n",
       "30         2         2      0       3       0  \n",
       "32         0         0      0       1       0  \n",
       "\n",
       "[5 rows x 85 columns]"
      ]
     },
     "execution_count": 7,
     "metadata": {},
     "output_type": "execute_result"
    }
   ],
   "source": [
    "nonviolent.head()"
   ]
  },
  {
   "cell_type": "code",
   "execution_count": 8,
   "metadata": {},
   "outputs": [],
   "source": [
    "violdec = violent.groupby((violent.eyear//10)*10).sum()\n",
    "nonvioldec = nonviolent.groupby((nonviolent.eyear//10)*10).sum()"
   ]
  },
  {
   "cell_type": "code",
   "execution_count": 9,
   "metadata": {},
   "outputs": [
    {
     "data": {
      "text/html": [
       "<div>\n",
       "<style scoped>\n",
       "    .dataframe tbody tr th:only-of-type {\n",
       "        vertical-align: middle;\n",
       "    }\n",
       "\n",
       "    .dataframe tbody tr th {\n",
       "        vertical-align: top;\n",
       "    }\n",
       "\n",
       "    .dataframe thead th {\n",
       "        text-align: right;\n",
       "    }\n",
       "</style>\n",
       "<table border=\"1\" class=\"dataframe\">\n",
       "  <thead>\n",
       "    <tr style=\"text-align: right;\">\n",
       "      <th></th>\n",
       "      <th>eyear</th>\n",
       "      <th>viol</th>\n",
       "      <th>defect</th>\n",
       "      <th>outcome</th>\n",
       "      <th>peakmembership</th>\n",
       "      <th>byear</th>\n",
       "      <th>location</th>\n",
       "      <th>campaign</th>\n",
       "      <th>target</th>\n",
       "      <th>lccode</th>\n",
       "      <th>...</th>\n",
       "      <th>lmtnest</th>\n",
       "      <th>ef</th>\n",
       "      <th>loclpolity1</th>\n",
       "      <th>loclcap1</th>\n",
       "      <th>loclcap2</th>\n",
       "      <th>loclcap3</th>\n",
       "      <th>loclcap4</th>\n",
       "      <th>mempc</th>\n",
       "      <th>demdum</th>\n",
       "      <th>recur1</th>\n",
       "    </tr>\n",
       "    <tr>\n",
       "      <th>eyear</th>\n",
       "      <th></th>\n",
       "      <th></th>\n",
       "      <th></th>\n",
       "      <th></th>\n",
       "      <th></th>\n",
       "      <th></th>\n",
       "      <th></th>\n",
       "      <th></th>\n",
       "      <th></th>\n",
       "      <th></th>\n",
       "      <th></th>\n",
       "      <th></th>\n",
       "      <th></th>\n",
       "      <th></th>\n",
       "      <th></th>\n",
       "      <th></th>\n",
       "      <th></th>\n",
       "      <th></th>\n",
       "      <th></th>\n",
       "      <th></th>\n",
       "      <th></th>\n",
       "    </tr>\n",
       "  </thead>\n",
       "  <tbody>\n",
       "    <tr>\n",
       "      <td>1910</td>\n",
       "      <td>1919</td>\n",
       "      <td>0</td>\n",
       "      <td>1</td>\n",
       "      <td>1</td>\n",
       "      <td>1</td>\n",
       "      <td>1</td>\n",
       "      <td>1</td>\n",
       "      <td>1</td>\n",
       "      <td>1</td>\n",
       "      <td>1</td>\n",
       "      <td>...</td>\n",
       "      <td>0</td>\n",
       "      <td>0</td>\n",
       "      <td>1</td>\n",
       "      <td>1</td>\n",
       "      <td>1</td>\n",
       "      <td>1</td>\n",
       "      <td>1</td>\n",
       "      <td>0</td>\n",
       "      <td>1</td>\n",
       "      <td>0</td>\n",
       "    </tr>\n",
       "    <tr>\n",
       "      <td>1920</td>\n",
       "      <td>1923</td>\n",
       "      <td>0</td>\n",
       "      <td>1</td>\n",
       "      <td>1</td>\n",
       "      <td>0</td>\n",
       "      <td>1</td>\n",
       "      <td>1</td>\n",
       "      <td>1</td>\n",
       "      <td>1</td>\n",
       "      <td>1</td>\n",
       "      <td>...</td>\n",
       "      <td>0</td>\n",
       "      <td>0</td>\n",
       "      <td>1</td>\n",
       "      <td>1</td>\n",
       "      <td>1</td>\n",
       "      <td>1</td>\n",
       "      <td>1</td>\n",
       "      <td>0</td>\n",
       "      <td>1</td>\n",
       "      <td>0</td>\n",
       "    </tr>\n",
       "    <tr>\n",
       "      <td>1930</td>\n",
       "      <td>1931</td>\n",
       "      <td>0</td>\n",
       "      <td>1</td>\n",
       "      <td>1</td>\n",
       "      <td>0</td>\n",
       "      <td>1</td>\n",
       "      <td>1</td>\n",
       "      <td>1</td>\n",
       "      <td>1</td>\n",
       "      <td>1</td>\n",
       "      <td>...</td>\n",
       "      <td>0</td>\n",
       "      <td>0</td>\n",
       "      <td>1</td>\n",
       "      <td>1</td>\n",
       "      <td>1</td>\n",
       "      <td>1</td>\n",
       "      <td>1</td>\n",
       "      <td>0</td>\n",
       "      <td>1</td>\n",
       "      <td>0</td>\n",
       "    </tr>\n",
       "    <tr>\n",
       "      <td>1940</td>\n",
       "      <td>3889</td>\n",
       "      <td>0</td>\n",
       "      <td>5</td>\n",
       "      <td>5</td>\n",
       "      <td>3</td>\n",
       "      <td>5</td>\n",
       "      <td>5</td>\n",
       "      <td>5</td>\n",
       "      <td>5</td>\n",
       "      <td>5</td>\n",
       "      <td>...</td>\n",
       "      <td>0</td>\n",
       "      <td>0</td>\n",
       "      <td>2</td>\n",
       "      <td>2</td>\n",
       "      <td>2</td>\n",
       "      <td>2</td>\n",
       "      <td>2</td>\n",
       "      <td>0</td>\n",
       "      <td>4</td>\n",
       "      <td>0</td>\n",
       "    </tr>\n",
       "    <tr>\n",
       "      <td>1950</td>\n",
       "      <td>11733</td>\n",
       "      <td>0</td>\n",
       "      <td>9</td>\n",
       "      <td>9</td>\n",
       "      <td>5</td>\n",
       "      <td>9</td>\n",
       "      <td>9</td>\n",
       "      <td>9</td>\n",
       "      <td>9</td>\n",
       "      <td>9</td>\n",
       "      <td>...</td>\n",
       "      <td>6</td>\n",
       "      <td>6</td>\n",
       "      <td>6</td>\n",
       "      <td>5</td>\n",
       "      <td>5</td>\n",
       "      <td>5</td>\n",
       "      <td>5</td>\n",
       "      <td>3</td>\n",
       "      <td>7</td>\n",
       "      <td>7</td>\n",
       "    </tr>\n",
       "    <tr>\n",
       "      <td>1960</td>\n",
       "      <td>9821</td>\n",
       "      <td>0</td>\n",
       "      <td>7</td>\n",
       "      <td>7</td>\n",
       "      <td>5</td>\n",
       "      <td>7</td>\n",
       "      <td>7</td>\n",
       "      <td>7</td>\n",
       "      <td>7</td>\n",
       "      <td>7</td>\n",
       "      <td>...</td>\n",
       "      <td>5</td>\n",
       "      <td>5</td>\n",
       "      <td>6</td>\n",
       "      <td>5</td>\n",
       "      <td>5</td>\n",
       "      <td>5</td>\n",
       "      <td>5</td>\n",
       "      <td>4</td>\n",
       "      <td>7</td>\n",
       "      <td>5</td>\n",
       "    </tr>\n",
       "    <tr>\n",
       "      <td>1970</td>\n",
       "      <td>9867</td>\n",
       "      <td>0</td>\n",
       "      <td>7</td>\n",
       "      <td>7</td>\n",
       "      <td>7</td>\n",
       "      <td>7</td>\n",
       "      <td>7</td>\n",
       "      <td>7</td>\n",
       "      <td>7</td>\n",
       "      <td>7</td>\n",
       "      <td>...</td>\n",
       "      <td>7</td>\n",
       "      <td>7</td>\n",
       "      <td>7</td>\n",
       "      <td>7</td>\n",
       "      <td>7</td>\n",
       "      <td>7</td>\n",
       "      <td>7</td>\n",
       "      <td>6</td>\n",
       "      <td>6</td>\n",
       "      <td>7</td>\n",
       "    </tr>\n",
       "    <tr>\n",
       "      <td>1980</td>\n",
       "      <td>17861</td>\n",
       "      <td>0</td>\n",
       "      <td>32</td>\n",
       "      <td>32</td>\n",
       "      <td>22</td>\n",
       "      <td>32</td>\n",
       "      <td>32</td>\n",
       "      <td>32</td>\n",
       "      <td>32</td>\n",
       "      <td>32</td>\n",
       "      <td>...</td>\n",
       "      <td>28</td>\n",
       "      <td>28</td>\n",
       "      <td>28</td>\n",
       "      <td>28</td>\n",
       "      <td>28</td>\n",
       "      <td>28</td>\n",
       "      <td>28</td>\n",
       "      <td>18</td>\n",
       "      <td>32</td>\n",
       "      <td>28</td>\n",
       "    </tr>\n",
       "    <tr>\n",
       "      <td>1990</td>\n",
       "      <td>15952</td>\n",
       "      <td>0</td>\n",
       "      <td>23</td>\n",
       "      <td>23</td>\n",
       "      <td>19</td>\n",
       "      <td>23</td>\n",
       "      <td>23</td>\n",
       "      <td>23</td>\n",
       "      <td>23</td>\n",
       "      <td>23</td>\n",
       "      <td>...</td>\n",
       "      <td>17</td>\n",
       "      <td>17</td>\n",
       "      <td>18</td>\n",
       "      <td>17</td>\n",
       "      <td>17</td>\n",
       "      <td>17</td>\n",
       "      <td>17</td>\n",
       "      <td>18</td>\n",
       "      <td>23</td>\n",
       "      <td>18</td>\n",
       "    </tr>\n",
       "    <tr>\n",
       "      <td>2000</td>\n",
       "      <td>14021</td>\n",
       "      <td>0</td>\n",
       "      <td>20</td>\n",
       "      <td>20</td>\n",
       "      <td>18</td>\n",
       "      <td>20</td>\n",
       "      <td>20</td>\n",
       "      <td>20</td>\n",
       "      <td>20</td>\n",
       "      <td>20</td>\n",
       "      <td>...</td>\n",
       "      <td>7</td>\n",
       "      <td>7</td>\n",
       "      <td>19</td>\n",
       "      <td>12</td>\n",
       "      <td>12</td>\n",
       "      <td>12</td>\n",
       "      <td>12</td>\n",
       "      <td>13</td>\n",
       "      <td>2</td>\n",
       "      <td>19</td>\n",
       "    </tr>\n",
       "  </tbody>\n",
       "</table>\n",
       "<p>10 rows × 85 columns</p>\n",
       "</div>"
      ],
      "text/plain": [
       "       eyear  viol  defect  outcome  peakmembership  byear  location  \\\n",
       "eyear                                                                  \n",
       "1910    1919     0       1        1               1      1         1   \n",
       "1920    1923     0       1        1               0      1         1   \n",
       "1930    1931     0       1        1               0      1         1   \n",
       "1940    3889     0       5        5               3      5         5   \n",
       "1950   11733     0       9        9               5      9         9   \n",
       "1960    9821     0       7        7               5      7         7   \n",
       "1970    9867     0       7        7               7      7         7   \n",
       "1980   17861     0      32       32              22     32        32   \n",
       "1990   15952     0      23       23              19     23        23   \n",
       "2000   14021     0      20       20              18     20        20   \n",
       "\n",
       "       campaign  target  lccode  ...  lmtnest  ef  loclpolity1  loclcap1  \\\n",
       "eyear                            ...                                       \n",
       "1910          1       1       1  ...        0   0            1         1   \n",
       "1920          1       1       1  ...        0   0            1         1   \n",
       "1930          1       1       1  ...        0   0            1         1   \n",
       "1940          5       5       5  ...        0   0            2         2   \n",
       "1950          9       9       9  ...        6   6            6         5   \n",
       "1960          7       7       7  ...        5   5            6         5   \n",
       "1970          7       7       7  ...        7   7            7         7   \n",
       "1980         32      32      32  ...       28  28           28        28   \n",
       "1990         23      23      23  ...       17  17           18        17   \n",
       "2000         20      20      20  ...        7   7           19        12   \n",
       "\n",
       "       loclcap2  loclcap3  loclcap4  mempc  demdum  recur1  \n",
       "eyear                                                       \n",
       "1910          1         1         1      0       1       0  \n",
       "1920          1         1         1      0       1       0  \n",
       "1930          1         1         1      0       1       0  \n",
       "1940          2         2         2      0       4       0  \n",
       "1950          5         5         5      3       7       7  \n",
       "1960          5         5         5      4       7       5  \n",
       "1970          7         7         7      6       6       7  \n",
       "1980         28        28        28     18      32      28  \n",
       "1990         17        17        17     18      23      18  \n",
       "2000         12        12        12     13       2      19  \n",
       "\n",
       "[10 rows x 85 columns]"
      ]
     },
     "execution_count": 9,
     "metadata": {},
     "output_type": "execute_result"
    }
   ],
   "source": [
    "nonvioldec"
   ]
  },
  {
   "cell_type": "code",
   "execution_count": 10,
   "metadata": {},
   "outputs": [
    {
     "data": {
      "text/plain": [
       "Text(0, 0.5, 'campaigns')"
      ]
     },
     "execution_count": 10,
     "metadata": {},
     "output_type": "execute_result"
    },
    {
     "data": {
      "image/png": "[encoded data removed]",
      "text/plain": [
       "<Figure size 1152x648 with 1 Axes>"
      ]
     },
     "metadata": {},
     "output_type": "display_data"
    }
   ],
   "source": [
    "# ion = np.insert(nonvioldec.outcome.values, 0, 10)\n",
    "# ion\n",
    "# violdec.outcome.values\n",
    "sns.set(style=\"whitegrid\")\n",
    "ion = np.insert(nonvioldec.outcome.values, 0, 0) #no data on it?\n",
    "nonvioldec.index.shape\n",
    "plt.figure(figsize=(16,9))\n",
    "plt.stackplot(violdec.index, violdec.outcome.values, ion, labels=['Violent', 'Nonviolent'])\n",
    "plt.legend(loc='upper left', fontsize = 'large')\n",
    "plt.xlim(1900, 2000)\n",
    "plt.xlabel('decade')\n",
    "plt.ylabel('campaigns')"
   ]
  },
  {
   "cell_type": "markdown",
   "metadata": {},
   "source": [
    "### Question 2"
   ]
  },
  {
   "cell_type": "code",
   "execution_count": 11,
   "metadata": {},
   "outputs": [],
   "source": [
    "# get the values from 1940 and after\n",
    "x = nonvioldec.index[3:]\n",
    "y1 = nonvioldec.outcome.values[3:]"
   ]
  },
  {
   "cell_type": "code",
   "execution_count": 12,
   "metadata": {},
   "outputs": [
    {
     "data": {
      "text/html": [
       "<div>\n",
       "<style scoped>\n",
       "    .dataframe tbody tr th:only-of-type {\n",
       "        vertical-align: middle;\n",
       "    }\n",
       "\n",
       "    .dataframe tbody tr th {\n",
       "        vertical-align: top;\n",
       "    }\n",
       "\n",
       "    .dataframe thead th {\n",
       "        text-align: right;\n",
       "    }\n",
       "</style>\n",
       "<table border=\"1\" class=\"dataframe\">\n",
       "  <thead>\n",
       "    <tr style=\"text-align: right;\">\n",
       "      <th></th>\n",
       "      <th>eyear</th>\n",
       "      <th>defect</th>\n",
       "      <th>outcome</th>\n",
       "      <th>peakmembership</th>\n",
       "      <th>byear</th>\n",
       "      <th>location</th>\n",
       "      <th>campaign</th>\n",
       "      <th>target</th>\n",
       "      <th>lccode</th>\n",
       "      <th>tccode</th>\n",
       "      <th>...</th>\n",
       "      <th>lmtnest</th>\n",
       "      <th>ef</th>\n",
       "      <th>loclpolity1</th>\n",
       "      <th>loclcap1</th>\n",
       "      <th>loclcap2</th>\n",
       "      <th>loclcap3</th>\n",
       "      <th>loclcap4</th>\n",
       "      <th>mempc</th>\n",
       "      <th>demdum</th>\n",
       "      <th>recur1</th>\n",
       "    </tr>\n",
       "    <tr>\n",
       "      <th>eyear</th>\n",
       "      <th></th>\n",
       "      <th></th>\n",
       "      <th></th>\n",
       "      <th></th>\n",
       "      <th></th>\n",
       "      <th></th>\n",
       "      <th></th>\n",
       "      <th></th>\n",
       "      <th></th>\n",
       "      <th></th>\n",
       "      <th></th>\n",
       "      <th></th>\n",
       "      <th></th>\n",
       "      <th></th>\n",
       "      <th></th>\n",
       "      <th></th>\n",
       "      <th></th>\n",
       "      <th></th>\n",
       "      <th></th>\n",
       "      <th></th>\n",
       "      <th></th>\n",
       "    </tr>\n",
       "  </thead>\n",
       "  <tbody>\n",
       "    <tr>\n",
       "      <td>1950</td>\n",
       "      <td>5874</td>\n",
       "      <td>3</td>\n",
       "      <td>3</td>\n",
       "      <td>0</td>\n",
       "      <td>3</td>\n",
       "      <td>3</td>\n",
       "      <td>3</td>\n",
       "      <td>3</td>\n",
       "      <td>3</td>\n",
       "      <td>3</td>\n",
       "      <td>...</td>\n",
       "      <td>1</td>\n",
       "      <td>1</td>\n",
       "      <td>1</td>\n",
       "      <td>1</td>\n",
       "      <td>1</td>\n",
       "      <td>1</td>\n",
       "      <td>1</td>\n",
       "      <td>0</td>\n",
       "      <td>2</td>\n",
       "      <td>2</td>\n",
       "    </tr>\n",
       "    <tr>\n",
       "      <td>1960</td>\n",
       "      <td>3923</td>\n",
       "      <td>3</td>\n",
       "      <td>3</td>\n",
       "      <td>2</td>\n",
       "      <td>3</td>\n",
       "      <td>3</td>\n",
       "      <td>3</td>\n",
       "      <td>3</td>\n",
       "      <td>3</td>\n",
       "      <td>3</td>\n",
       "      <td>...</td>\n",
       "      <td>2</td>\n",
       "      <td>2</td>\n",
       "      <td>2</td>\n",
       "      <td>2</td>\n",
       "      <td>2</td>\n",
       "      <td>2</td>\n",
       "      <td>2</td>\n",
       "      <td>2</td>\n",
       "      <td>3</td>\n",
       "      <td>2</td>\n",
       "    </tr>\n",
       "    <tr>\n",
       "      <td>1970</td>\n",
       "      <td>5926</td>\n",
       "      <td>4</td>\n",
       "      <td>4</td>\n",
       "      <td>4</td>\n",
       "      <td>4</td>\n",
       "      <td>4</td>\n",
       "      <td>4</td>\n",
       "      <td>4</td>\n",
       "      <td>4</td>\n",
       "      <td>4</td>\n",
       "      <td>...</td>\n",
       "      <td>4</td>\n",
       "      <td>4</td>\n",
       "      <td>4</td>\n",
       "      <td>4</td>\n",
       "      <td>4</td>\n",
       "      <td>4</td>\n",
       "      <td>4</td>\n",
       "      <td>4</td>\n",
       "      <td>3</td>\n",
       "      <td>4</td>\n",
       "    </tr>\n",
       "  </tbody>\n",
       "</table>\n",
       "<p>3 rows × 85 columns</p>\n",
       "</div>"
      ],
      "text/plain": [
       "       eyear  defect  outcome  peakmembership  byear  location  campaign  \\\n",
       "eyear                                                                      \n",
       "1950    5874       3        3               0      3         3         3   \n",
       "1960    3923       3        3               2      3         3         3   \n",
       "1970    5926       4        4               4      4         4         4   \n",
       "\n",
       "       target  lccode  tccode  ...  lmtnest  ef  loclpolity1  loclcap1  \\\n",
       "eyear                          ...                                       \n",
       "1950        3       3       3  ...        1   1            1         1   \n",
       "1960        3       3       3  ...        2   2            2         2   \n",
       "1970        4       4       4  ...        4   4            4         4   \n",
       "\n",
       "       loclcap2  loclcap3  loclcap4  mempc  demdum  recur1  \n",
       "eyear                                                       \n",
       "1950          1         1         1      0       2       2  \n",
       "1960          2         2         2      2       3       2  \n",
       "1970          4         4         4      4       3       4  \n",
       "\n",
       "[3 rows x 85 columns]"
      ]
     },
     "execution_count": 12,
     "metadata": {},
     "output_type": "execute_result"
    }
   ],
   "source": [
    "non = data.loc[(data.viol == 0) & (data.outcome == 5)]\n",
    "group = non.groupby('eyear').count()\n",
    "group.reset_index(inplace=True)\n",
    "groupdec = group.groupby((group.eyear//10)*10).sum()\n",
    "groupdec[3:6]"
   ]
  },
  {
   "cell_type": "code",
   "execution_count": 13,
   "metadata": {},
   "outputs": [
    {
     "data": {
      "text/html": [
       "<div>\n",
       "<style scoped>\n",
       "    .dataframe tbody tr th:only-of-type {\n",
       "        vertical-align: middle;\n",
       "    }\n",
       "\n",
       "    .dataframe tbody tr th {\n",
       "        vertical-align: top;\n",
       "    }\n",
       "\n",
       "    .dataframe thead th {\n",
       "        text-align: right;\n",
       "    }\n",
       "</style>\n",
       "<table border=\"1\" class=\"dataframe\">\n",
       "  <thead>\n",
       "    <tr style=\"text-align: right;\">\n",
       "      <th></th>\n",
       "      <th>eyear</th>\n",
       "      <th>viol</th>\n",
       "      <th>defect</th>\n",
       "      <th>outcome</th>\n",
       "      <th>peakmembership</th>\n",
       "      <th>byear</th>\n",
       "      <th>location</th>\n",
       "      <th>campaign</th>\n",
       "      <th>target</th>\n",
       "      <th>lccode</th>\n",
       "      <th>...</th>\n",
       "      <th>lmtnest</th>\n",
       "      <th>ef</th>\n",
       "      <th>loclpolity1</th>\n",
       "      <th>loclcap1</th>\n",
       "      <th>loclcap2</th>\n",
       "      <th>loclcap3</th>\n",
       "      <th>loclcap4</th>\n",
       "      <th>mempc</th>\n",
       "      <th>demdum</th>\n",
       "      <th>recur1</th>\n",
       "    </tr>\n",
       "    <tr>\n",
       "      <th>eyear</th>\n",
       "      <th></th>\n",
       "      <th></th>\n",
       "      <th></th>\n",
       "      <th></th>\n",
       "      <th></th>\n",
       "      <th></th>\n",
       "      <th></th>\n",
       "      <th></th>\n",
       "      <th></th>\n",
       "      <th></th>\n",
       "      <th></th>\n",
       "      <th></th>\n",
       "      <th></th>\n",
       "      <th></th>\n",
       "      <th></th>\n",
       "      <th></th>\n",
       "      <th></th>\n",
       "      <th></th>\n",
       "      <th></th>\n",
       "      <th></th>\n",
       "      <th></th>\n",
       "    </tr>\n",
       "  </thead>\n",
       "  <tbody>\n",
       "    <tr>\n",
       "      <td>1950</td>\n",
       "      <td>11733</td>\n",
       "      <td>0</td>\n",
       "      <td>9</td>\n",
       "      <td>9</td>\n",
       "      <td>5</td>\n",
       "      <td>9</td>\n",
       "      <td>9</td>\n",
       "      <td>9</td>\n",
       "      <td>9</td>\n",
       "      <td>9</td>\n",
       "      <td>...</td>\n",
       "      <td>6</td>\n",
       "      <td>6</td>\n",
       "      <td>6</td>\n",
       "      <td>5</td>\n",
       "      <td>5</td>\n",
       "      <td>5</td>\n",
       "      <td>5</td>\n",
       "      <td>3</td>\n",
       "      <td>7</td>\n",
       "      <td>7</td>\n",
       "    </tr>\n",
       "    <tr>\n",
       "      <td>1960</td>\n",
       "      <td>9821</td>\n",
       "      <td>0</td>\n",
       "      <td>7</td>\n",
       "      <td>7</td>\n",
       "      <td>5</td>\n",
       "      <td>7</td>\n",
       "      <td>7</td>\n",
       "      <td>7</td>\n",
       "      <td>7</td>\n",
       "      <td>7</td>\n",
       "      <td>...</td>\n",
       "      <td>5</td>\n",
       "      <td>5</td>\n",
       "      <td>6</td>\n",
       "      <td>5</td>\n",
       "      <td>5</td>\n",
       "      <td>5</td>\n",
       "      <td>5</td>\n",
       "      <td>4</td>\n",
       "      <td>7</td>\n",
       "      <td>5</td>\n",
       "    </tr>\n",
       "    <tr>\n",
       "      <td>1970</td>\n",
       "      <td>9867</td>\n",
       "      <td>0</td>\n",
       "      <td>7</td>\n",
       "      <td>7</td>\n",
       "      <td>7</td>\n",
       "      <td>7</td>\n",
       "      <td>7</td>\n",
       "      <td>7</td>\n",
       "      <td>7</td>\n",
       "      <td>7</td>\n",
       "      <td>...</td>\n",
       "      <td>7</td>\n",
       "      <td>7</td>\n",
       "      <td>7</td>\n",
       "      <td>7</td>\n",
       "      <td>7</td>\n",
       "      <td>7</td>\n",
       "      <td>7</td>\n",
       "      <td>6</td>\n",
       "      <td>6</td>\n",
       "      <td>7</td>\n",
       "    </tr>\n",
       "  </tbody>\n",
       "</table>\n",
       "<p>3 rows × 85 columns</p>\n",
       "</div>"
      ],
      "text/plain": [
       "       eyear  viol  defect  outcome  peakmembership  byear  location  \\\n",
       "eyear                                                                  \n",
       "1950   11733     0       9        9               5      9         9   \n",
       "1960    9821     0       7        7               5      7         7   \n",
       "1970    9867     0       7        7               7      7         7   \n",
       "\n",
       "       campaign  target  lccode  ...  lmtnest  ef  loclpolity1  loclcap1  \\\n",
       "eyear                            ...                                       \n",
       "1950          9       9       9  ...        6   6            6         5   \n",
       "1960          7       7       7  ...        5   5            6         5   \n",
       "1970          7       7       7  ...        7   7            7         7   \n",
       "\n",
       "       loclcap2  loclcap3  loclcap4  mempc  demdum  recur1  \n",
       "eyear                                                       \n",
       "1950          5         5         5      3       7       7  \n",
       "1960          5         5         5      4       7       5  \n",
       "1970          7         7         7      6       6       7  \n",
       "\n",
       "[3 rows x 85 columns]"
      ]
     },
     "execution_count": 13,
     "metadata": {},
     "output_type": "execute_result"
    }
   ],
   "source": [
    "nonvioldec[4:7]"
   ]
  },
  {
   "cell_type": "code",
   "execution_count": 14,
   "metadata": {},
   "outputs": [],
   "source": [
    "perc = groupdec/nonvioldec"
   ]
  },
  {
   "cell_type": "code",
   "execution_count": 15,
   "metadata": {},
   "outputs": [
    {
     "data": {
      "text/plain": [
       "eyear\n",
       "1910         NaN\n",
       "1920    1.000000\n",
       "1930    1.000000\n",
       "1940    0.400000\n",
       "1950    0.333333\n",
       "1960    0.428571\n",
       "1970    0.571429\n",
       "1980    0.531250\n",
       "1990    0.521739\n",
       "2000    0.700000\n",
       "Name: outcome, dtype: float64"
      ]
     },
     "execution_count": 15,
     "metadata": {},
     "output_type": "execute_result"
    }
   ],
   "source": [
    "perc.outcome"
   ]
  },
  {
   "cell_type": "code",
   "execution_count": 16,
   "metadata": {},
   "outputs": [],
   "source": [
    "# get the values from 1940 and after\n",
    "y2 = perc.outcome.values[3:]"
   ]
  },
  {
   "cell_type": "code",
   "execution_count": 17,
   "metadata": {},
   "outputs": [
    {
     "data": {
      "text/plain": [
       "<matplotlib.legend.Legend at 0x7f5e82191278>"
      ]
     },
     "execution_count": 17,
     "metadata": {},
     "output_type": "execute_result"
    },
    {
     "data": {
      "image/png": "[encoded data removed]",
      "text/plain": [
       "<Figure size 1008x576 with 2 Axes>"
      ]
     },
     "metadata": {},
     "output_type": "display_data"
    }
   ],
   "source": [
    "width = 2.5  # the width of the bars\n",
    "\n",
    "fig = plt.figure(figsize=[14,8])\n",
    "ax1 = fig.add_subplot(111)\n",
    "ax2 = ax1.twinx()  # instantiate a second axes that shares the same x-axis\n",
    "number = ax1.bar(x - width/2, y1, width, color='b', label='number of nonviolent campaigns')\n",
    "ax1.grid(False)\n",
    "percentage = ax2.bar(x + width/2, y2, width, color='orange', label='percentage successes')\n",
    "ax2.grid(False)\n",
    "\n",
    "fig.legend(bbox_to_anchor=(0.0623, 0.803), loc='upper left', fontsize=12)\n",
    "\n",
    "#How do I do the legend appending?\n",
    "# axs = number+percentage\n",
    "# labs = [l.get_label() for l in axs]\n",
    "# ax1.legend(axs, labs, loc=0)"
   ]
  },
  {
   "cell_type": "markdown",
   "metadata": {},
   "source": [
    "## We only need to calculate the percentages for the violent campaigns"
   ]
  },
  {
   "cell_type": "code",
   "execution_count": 18,
   "metadata": {},
   "outputs": [
    {
     "data": {
      "text/html": [
       "<div>\n",
       "<style scoped>\n",
       "    .dataframe tbody tr th:only-of-type {\n",
       "        vertical-align: middle;\n",
       "    }\n",
       "\n",
       "    .dataframe tbody tr th {\n",
       "        vertical-align: top;\n",
       "    }\n",
       "\n",
       "    .dataframe thead th {\n",
       "        text-align: right;\n",
       "    }\n",
       "</style>\n",
       "<table border=\"1\" class=\"dataframe\">\n",
       "  <thead>\n",
       "    <tr style=\"text-align: right;\">\n",
       "      <th></th>\n",
       "      <th>eyear</th>\n",
       "      <th>defect</th>\n",
       "      <th>outcome</th>\n",
       "      <th>peakmembership</th>\n",
       "      <th>byear</th>\n",
       "      <th>location</th>\n",
       "      <th>campaign</th>\n",
       "      <th>target</th>\n",
       "      <th>lccode</th>\n",
       "      <th>tccode</th>\n",
       "      <th>...</th>\n",
       "      <th>lmtnest</th>\n",
       "      <th>ef</th>\n",
       "      <th>loclpolity1</th>\n",
       "      <th>loclcap1</th>\n",
       "      <th>loclcap2</th>\n",
       "      <th>loclcap3</th>\n",
       "      <th>loclcap4</th>\n",
       "      <th>mempc</th>\n",
       "      <th>demdum</th>\n",
       "      <th>recur1</th>\n",
       "    </tr>\n",
       "    <tr>\n",
       "      <th>eyear</th>\n",
       "      <th></th>\n",
       "      <th></th>\n",
       "      <th></th>\n",
       "      <th></th>\n",
       "      <th></th>\n",
       "      <th></th>\n",
       "      <th></th>\n",
       "      <th></th>\n",
       "      <th></th>\n",
       "      <th></th>\n",
       "      <th></th>\n",
       "      <th></th>\n",
       "      <th></th>\n",
       "      <th></th>\n",
       "      <th></th>\n",
       "      <th></th>\n",
       "      <th></th>\n",
       "      <th></th>\n",
       "      <th></th>\n",
       "      <th></th>\n",
       "      <th></th>\n",
       "    </tr>\n",
       "  </thead>\n",
       "  <tbody>\n",
       "    <tr>\n",
       "      <td>1930</td>\n",
       "      <td>3871</td>\n",
       "      <td>2</td>\n",
       "      <td>2</td>\n",
       "      <td>2</td>\n",
       "      <td>2</td>\n",
       "      <td>2</td>\n",
       "      <td>2</td>\n",
       "      <td>2</td>\n",
       "      <td>2</td>\n",
       "      <td>2</td>\n",
       "      <td>...</td>\n",
       "      <td>0</td>\n",
       "      <td>0</td>\n",
       "      <td>2</td>\n",
       "      <td>2</td>\n",
       "      <td>2</td>\n",
       "      <td>2</td>\n",
       "      <td>2</td>\n",
       "      <td>0</td>\n",
       "      <td>2</td>\n",
       "      <td>0</td>\n",
       "    </tr>\n",
       "    <tr>\n",
       "      <td>1940</td>\n",
       "      <td>5837</td>\n",
       "      <td>7</td>\n",
       "      <td>7</td>\n",
       "      <td>5</td>\n",
       "      <td>7</td>\n",
       "      <td>7</td>\n",
       "      <td>7</td>\n",
       "      <td>7</td>\n",
       "      <td>7</td>\n",
       "      <td>7</td>\n",
       "      <td>...</td>\n",
       "      <td>3</td>\n",
       "      <td>2</td>\n",
       "      <td>5</td>\n",
       "      <td>5</td>\n",
       "      <td>5</td>\n",
       "      <td>5</td>\n",
       "      <td>5</td>\n",
       "      <td>0</td>\n",
       "      <td>6</td>\n",
       "      <td>5</td>\n",
       "    </tr>\n",
       "    <tr>\n",
       "      <td>1950</td>\n",
       "      <td>7821</td>\n",
       "      <td>7</td>\n",
       "      <td>7</td>\n",
       "      <td>5</td>\n",
       "      <td>7</td>\n",
       "      <td>7</td>\n",
       "      <td>7</td>\n",
       "      <td>7</td>\n",
       "      <td>7</td>\n",
       "      <td>7</td>\n",
       "      <td>...</td>\n",
       "      <td>3</td>\n",
       "      <td>3</td>\n",
       "      <td>3</td>\n",
       "      <td>3</td>\n",
       "      <td>3</td>\n",
       "      <td>3</td>\n",
       "      <td>3</td>\n",
       "      <td>5</td>\n",
       "      <td>6</td>\n",
       "      <td>4</td>\n",
       "    </tr>\n",
       "  </tbody>\n",
       "</table>\n",
       "<p>3 rows × 85 columns</p>\n",
       "</div>"
      ],
      "text/plain": [
       "       eyear  defect  outcome  peakmembership  byear  location  campaign  \\\n",
       "eyear                                                                      \n",
       "1930    3871       2        2               2      2         2         2   \n",
       "1940    5837       7        7               5      7         7         7   \n",
       "1950    7821       7        7               5      7         7         7   \n",
       "\n",
       "       target  lccode  tccode  ...  lmtnest  ef  loclpolity1  loclcap1  \\\n",
       "eyear                          ...                                       \n",
       "1930        2       2       2  ...        0   0            2         2   \n",
       "1940        7       7       7  ...        3   2            5         5   \n",
       "1950        7       7       7  ...        3   3            3         3   \n",
       "\n",
       "       loclcap2  loclcap3  loclcap4  mempc  demdum  recur1  \n",
       "eyear                                                       \n",
       "1930          2         2         2      0       2       0  \n",
       "1940          5         5         5      0       6       5  \n",
       "1950          3         3         3      5       6       4  \n",
       "\n",
       "[3 rows x 85 columns]"
      ]
     },
     "execution_count": 18,
     "metadata": {},
     "output_type": "execute_result"
    }
   ],
   "source": [
    "vio = data.loc[(data.viol == 1) & (data.outcome == 5)]\n",
    "group = vio.groupby('eyear').count()\n",
    "group.reset_index(inplace=True)\n",
    "groupdec2 = group.groupby((group.eyear//10)*10).sum()\n",
    "groupdec2[3:6]"
   ]
  },
  {
   "cell_type": "code",
   "execution_count": 19,
   "metadata": {},
   "outputs": [],
   "source": [
    "vioperc = groupdec2/violdec"
   ]
  },
  {
   "cell_type": "code",
   "execution_count": 20,
   "metadata": {},
   "outputs": [
    {
     "data": {
      "text/plain": [
       "array([0.33333333, 0.36842105, 0.23529412, 0.38461538, 0.38461538,\n",
       "       0.26666667, 0.13636364])"
      ]
     },
     "execution_count": 20,
     "metadata": {},
     "output_type": "execute_result"
    }
   ],
   "source": [
    "x = vioperc.index[4:]\n",
    "y1 = vioperc.outcome.values[4:]\n",
    "y2 = perc.outcome.values[3:]\n",
    "y1"
   ]
  },
  {
   "cell_type": "code",
   "execution_count": 21,
   "metadata": {},
   "outputs": [
    {
     "data": {
      "text/plain": [
       "<matplotlib.legend.Legend at 0x7f5e821318d0>"
      ]
     },
     "execution_count": 21,
     "metadata": {},
     "output_type": "execute_result"
    },
    {
     "data": {
      "image/png": "[encoded data removed]",
      "text/plain": [
       "<Figure size 1080x576 with 1 Axes>"
      ]
     },
     "metadata": {},
     "output_type": "display_data"
    }
   ],
   "source": [
    "width = 2.5  # the width of the bars\n",
    "\n",
    "fig = plt.figure(figsize=[15,8])\n",
    "ax = fig.add_subplot(111)\n",
    "b2 = ax.bar(x + width/2, y1, width, color='orangered')\n",
    "b1 = ax.bar(x - width/2, y2, width, color='b')\n",
    "\n",
    "plt.xlabel('decade')\n",
    "plt.ylabel('success rate')\n",
    "ax.legend((b1[0], b2[0]), ('nonviolent', 'violent'), fontsize=12)\n"
   ]
  },
  {
   "cell_type": "markdown",
   "metadata": {},
   "source": [
    "## Question 4"
   ]
  },
  {
   "cell_type": "markdown",
   "metadata": {},
   "source": [
    "Create a table with the twenty-five largest resistance campaigns, for all years, based on their number of members at highest point (peak membership). The table should include the membership, the start year, the end year, the location, the target, whether it was violent or not, and whether it was successful or not. Notice if you find anything about Greece."
   ]
  },
  {
   "cell_type": "code",
   "execution_count": 22,
   "metadata": {},
   "outputs": [
    {
     "data": {
      "text/html": [
       "<div>\n",
       "<style scoped>\n",
       "    .dataframe tbody tr th:only-of-type {\n",
       "        vertical-align: middle;\n",
       "    }\n",
       "\n",
       "    .dataframe tbody tr th {\n",
       "        vertical-align: top;\n",
       "    }\n",
       "\n",
       "    .dataframe thead th {\n",
       "        text-align: right;\n",
       "    }\n",
       "</style>\n",
       "<table border=\"1\" class=\"dataframe\">\n",
       "  <thead>\n",
       "    <tr style=\"text-align: right;\">\n",
       "      <th></th>\n",
       "      <th>peakmembership</th>\n",
       "      <th>eyear</th>\n",
       "      <th>byear</th>\n",
       "      <th>location</th>\n",
       "      <th>target</th>\n",
       "    </tr>\n",
       "  </thead>\n",
       "  <tbody>\n",
       "    <tr>\n",
       "      <td>257</td>\n",
       "      <td>4500000.0</td>\n",
       "      <td>1945</td>\n",
       "      <td>1937</td>\n",
       "      <td>China</td>\n",
       "      <td>Japanese occupation</td>\n",
       "    </tr>\n",
       "    <tr>\n",
       "      <td>206</td>\n",
       "      <td>2000000.0</td>\n",
       "      <td>1979</td>\n",
       "      <td>1977</td>\n",
       "      <td>Iran</td>\n",
       "      <td>Shah Reza Pahlavi</td>\n",
       "    </tr>\n",
       "    <tr>\n",
       "      <td>311</td>\n",
       "      <td>2000000.0</td>\n",
       "      <td>1983</td>\n",
       "      <td>1986</td>\n",
       "      <td>Philippines</td>\n",
       "      <td>Ferdinand Marcos</td>\n",
       "    </tr>\n",
       "    <tr>\n",
       "      <td>289</td>\n",
       "      <td>1000000.0</td>\n",
       "      <td>1988</td>\n",
       "      <td>1988</td>\n",
       "      <td>Burma</td>\n",
       "      <td>military junta</td>\n",
       "    </tr>\n",
       "    <tr>\n",
       "      <td>265</td>\n",
       "      <td>1000000.0</td>\n",
       "      <td>1989</td>\n",
       "      <td>1989</td>\n",
       "      <td>China</td>\n",
       "      <td>Communist regime</td>\n",
       "    </tr>\n",
       "    <tr>\n",
       "      <td>262</td>\n",
       "      <td>1000000.0</td>\n",
       "      <td>1968</td>\n",
       "      <td>1967</td>\n",
       "      <td>China</td>\n",
       "      <td>anti-Maoists</td>\n",
       "    </tr>\n",
       "    <tr>\n",
       "      <td>255</td>\n",
       "      <td>1000000.0</td>\n",
       "      <td>1949</td>\n",
       "      <td>1922</td>\n",
       "      <td>China</td>\n",
       "      <td>Kuomintang regime</td>\n",
       "    </tr>\n",
       "    <tr>\n",
       "      <td>10</td>\n",
       "      <td>1000000.0</td>\n",
       "      <td>2006</td>\n",
       "      <td>2006</td>\n",
       "      <td>Mexico</td>\n",
       "      <td>Calderon regime</td>\n",
       "    </tr>\n",
       "    <tr>\n",
       "      <td>228</td>\n",
       "      <td>1000000.0</td>\n",
       "      <td>2005</td>\n",
       "      <td>2005</td>\n",
       "      <td>Lebanon</td>\n",
       "      <td>Syrian forces</td>\n",
       "    </tr>\n",
       "    <tr>\n",
       "      <td>141</td>\n",
       "      <td>1000000.0</td>\n",
       "      <td>1999</td>\n",
       "      <td>1993</td>\n",
       "      <td>Nigeria</td>\n",
       "      <td>Military rule</td>\n",
       "    </tr>\n",
       "    <tr>\n",
       "      <td>38</td>\n",
       "      <td>1000000.0</td>\n",
       "      <td>1985</td>\n",
       "      <td>1984</td>\n",
       "      <td>Brazil</td>\n",
       "      <td>Military rule</td>\n",
       "    </tr>\n",
       "    <tr>\n",
       "      <td>105</td>\n",
       "      <td>700000.0</td>\n",
       "      <td>1991</td>\n",
       "      <td>1990</td>\n",
       "      <td>Russia</td>\n",
       "      <td>Anti-coup</td>\n",
       "    </tr>\n",
       "    <tr>\n",
       "      <td>45</td>\n",
       "      <td>700000.0</td>\n",
       "      <td>1989</td>\n",
       "      <td>1983</td>\n",
       "      <td>Chile</td>\n",
       "      <td>Augusto Pinochet</td>\n",
       "    </tr>\n",
       "    <tr>\n",
       "      <td>261</td>\n",
       "      <td>550000.0</td>\n",
       "      <td>1957</td>\n",
       "      <td>1956</td>\n",
       "      <td>China</td>\n",
       "      <td>Communist regime</td>\n",
       "    </tr>\n",
       "    <tr>\n",
       "      <td>75</td>\n",
       "      <td>500000.0</td>\n",
       "      <td>1989</td>\n",
       "      <td>1989</td>\n",
       "      <td>Czechoslovakia</td>\n",
       "      <td>Communist regime</td>\n",
       "    </tr>\n",
       "    <tr>\n",
       "      <td>189</td>\n",
       "      <td>500000.0</td>\n",
       "      <td>2003</td>\n",
       "      <td>2002</td>\n",
       "      <td>Madagascar</td>\n",
       "      <td>Radsiraka regime</td>\n",
       "    </tr>\n",
       "    <tr>\n",
       "      <td>92</td>\n",
       "      <td>500000.0</td>\n",
       "      <td>1963</td>\n",
       "      <td>1963</td>\n",
       "      <td>Greece</td>\n",
       "      <td>Karamanlis regime</td>\n",
       "    </tr>\n",
       "    <tr>\n",
       "      <td>113</td>\n",
       "      <td>500000.0</td>\n",
       "      <td>2004</td>\n",
       "      <td>2001</td>\n",
       "      <td>Ukraine</td>\n",
       "      <td>Kuchma regime</td>\n",
       "    </tr>\n",
       "    <tr>\n",
       "      <td>312</td>\n",
       "      <td>500000.0</td>\n",
       "      <td>2001</td>\n",
       "      <td>2001</td>\n",
       "      <td>Philippines</td>\n",
       "      <td>Estrada regime</td>\n",
       "    </tr>\n",
       "    <tr>\n",
       "      <td>103</td>\n",
       "      <td>400000.0</td>\n",
       "      <td>1945</td>\n",
       "      <td>1941</td>\n",
       "      <td>USSR</td>\n",
       "      <td>Nazi occupation</td>\n",
       "    </tr>\n",
       "    <tr>\n",
       "      <td>188</td>\n",
       "      <td>400000.0</td>\n",
       "      <td>1993</td>\n",
       "      <td>1991</td>\n",
       "      <td>Madagascar</td>\n",
       "      <td>Didier Radsiraka</td>\n",
       "    </tr>\n",
       "    <tr>\n",
       "      <td>63</td>\n",
       "      <td>400000.0</td>\n",
       "      <td>1953</td>\n",
       "      <td>1953</td>\n",
       "      <td>East Germany</td>\n",
       "      <td>Communist regime</td>\n",
       "    </tr>\n",
       "    <tr>\n",
       "      <td>303</td>\n",
       "      <td>340000.0</td>\n",
       "      <td>1975</td>\n",
       "      <td>1958</td>\n",
       "      <td>Vietnam</td>\n",
       "      <td>U.S. occupation</td>\n",
       "    </tr>\n",
       "    <tr>\n",
       "      <td>77</td>\n",
       "      <td>300000.0</td>\n",
       "      <td>1945</td>\n",
       "      <td>1943</td>\n",
       "      <td>Italy</td>\n",
       "      <td>Nazi occupation</td>\n",
       "    </tr>\n",
       "    <tr>\n",
       "      <td>66</td>\n",
       "      <td>300000.0</td>\n",
       "      <td>1944</td>\n",
       "      <td>1944</td>\n",
       "      <td>Poland</td>\n",
       "      <td>German occupation</td>\n",
       "    </tr>\n",
       "  </tbody>\n",
       "</table>\n",
       "</div>"
      ],
      "text/plain": [
       "     peakmembership  eyear  byear        location               target\n",
       "257       4500000.0   1945   1937           China  Japanese occupation\n",
       "206       2000000.0   1979   1977            Iran    Shah Reza Pahlavi\n",
       "311       2000000.0   1983   1986     Philippines     Ferdinand Marcos\n",
       "289       1000000.0   1988   1988           Burma       military junta\n",
       "265       1000000.0   1989   1989           China     Communist regime\n",
       "262       1000000.0   1968   1967           China         anti-Maoists\n",
       "255       1000000.0   1949   1922           China    Kuomintang regime\n",
       "10        1000000.0   2006   2006          Mexico      Calderon regime\n",
       "228       1000000.0   2005   2005         Lebanon        Syrian forces\n",
       "141       1000000.0   1999   1993         Nigeria        Military rule\n",
       "38        1000000.0   1985   1984          Brazil        Military rule\n",
       "105        700000.0   1991   1990          Russia            Anti-coup\n",
       "45         700000.0   1989   1983           Chile     Augusto Pinochet\n",
       "261        550000.0   1957   1956           China     Communist regime\n",
       "75         500000.0   1989   1989  Czechoslovakia     Communist regime\n",
       "189        500000.0   2003   2002      Madagascar     Radsiraka regime\n",
       "92         500000.0   1963   1963          Greece    Karamanlis regime\n",
       "113        500000.0   2004   2001         Ukraine        Kuchma regime\n",
       "312        500000.0   2001   2001     Philippines       Estrada regime\n",
       "103        400000.0   1945   1941            USSR      Nazi occupation\n",
       "188        400000.0   1993   1991      Madagascar     Didier Radsiraka\n",
       "63         400000.0   1953   1953    East Germany     Communist regime\n",
       "303        340000.0   1975   1958         Vietnam      U.S. occupation\n",
       "77         300000.0   1945   1943           Italy      Nazi occupation\n",
       "66         300000.0   1944   1944          Poland    German occupation"
      ]
     },
     "execution_count": 22,
     "metadata": {},
     "output_type": "execute_result"
    }
   ],
   "source": [
    "peakcamp = data.loc[:, ['peakmembership', 'eyear', 'byear', 'location', 'target']]\n",
    "\n",
    "peakcamp.sort_values(by='peakmembership', ascending=False)[:25]"
   ]
  },
  {
   "cell_type": "markdown",
   "metadata": {},
   "source": [
    "## Question 5"
   ]
  },
  {
   "cell_type": "markdown",
   "metadata": {},
   "source": [
    "Examine the effect of participation on the probability of campaign success. You should run a logistic regression for success on membership per capita, controlling for the location’s logged population the year the campaign ends. Explain your results.\n",
    "\n",
    "Having done that, create a scatter plot showing the logged participants per capita, on the 𝑥\n",
    "axis, and the probability of success, on the 𝑦 axis. "
   ]
  },
  {
   "cell_type": "code",
   "execution_count": 23,
   "metadata": {},
   "outputs": [],
   "source": [
    "clear_data = data.loc[data.mempc.notna()]"
   ]
  },
  {
   "cell_type": "code",
   "execution_count": 24,
   "metadata": {},
   "outputs": [
    {
     "data": {
      "text/plain": [
       "<matplotlib.collections.PathCollection at 0x7f5e820180b8>"
      ]
     },
     "execution_count": 24,
     "metadata": {},
     "output_type": "execute_result"
    },
    {
     "data": {
      "image/png": "[encoded data removed]",
      "text/plain": [
       "<Figure size 432x288 with 1 Axes>"
      ]
     },
     "metadata": {},
     "output_type": "display_data"
    }
   ],
   "source": [
    "plt.scatter(data.mempc, data.success)"
   ]
  },
  {
   "cell_type": "markdown",
   "metadata": {},
   "source": [
    "Let's explore our target value and visualize it"
   ]
  },
  {
   "cell_type": "code",
   "execution_count": 25,
   "metadata": {},
   "outputs": [
    {
     "data": {
      "image/png": "[encoded data removed]",
      "text/plain": [
       "<Figure size 432x288 with 1 Axes>"
      ]
     },
     "metadata": {},
     "output_type": "display_data"
    }
   ],
   "source": [
    "data.success.value_counts()\n",
    "sns.countplot(x = 'success', data = data, palette = 'hls')\n",
    "plt.show()"
   ]
  },
  {
   "cell_type": "markdown",
   "metadata": {},
   "source": [
    "We apply binary logistic regression since the dependent variable is binary."
   ]
  },
  {
   "cell_type": "code",
   "execution_count": 26,
   "metadata": {},
   "outputs": [
    {
     "name": "stdout",
     "output_type": "stream",
     "text": [
      "Optimization terminated successfully.\n",
      "         Current function value: 0.594790\n",
      "         Iterations 5\n"
     ]
    },
    {
     "data": {
      "text/html": [
       "<table class=\"simpletable\">\n",
       "<tr>\n",
       "        <td>Model:</td>              <td>Logit</td>      <td>Pseudo R-squared:</td>    <td>0.129</td>  \n",
       "</tr>\n",
       "<tr>\n",
       "  <td>Dependent Variable:</td>      <td>success</td>           <td>AIC:</td>         <td>199.9014</td> \n",
       "</tr>\n",
       "<tr>\n",
       "         <td>Date:</td>        <td>2019-11-24 14:17</td>       <td>BIC:</td>         <td>209.1827</td> \n",
       "</tr>\n",
       "<tr>\n",
       "   <td>No. Observations:</td>         <td>163</td>        <td>Log-Likelihood:</td>    <td>-96.951</td> \n",
       "</tr>\n",
       "<tr>\n",
       "       <td>Df Model:</td>              <td>2</td>            <td>LL-Null:</td>        <td>-111.35</td> \n",
       "</tr>\n",
       "<tr>\n",
       "     <td>Df Residuals:</td>           <td>160</td>         <td>LLR p-value:</td>    <td>5.5508e-07</td>\n",
       "</tr>\n",
       "<tr>\n",
       "      <td>Converged:</td>           <td>1.0000</td>           <td>Scale:</td>         <td>1.0000</td>  \n",
       "</tr>\n",
       "<tr>\n",
       "    <td>No. Iterations:</td>        <td>5.0000</td>              <td></td>               <td></td>     \n",
       "</tr>\n",
       "</table>\n",
       "<table class=\"simpletable\">\n",
       "<tr>\n",
       "      <td></td>       <th>Coef.</th>  <th>Std.Err.</th>    <th>z</th>     <th>P>|z|</th> <th>[0.025</th>  <th>0.975]</th> \n",
       "</tr>\n",
       "<tr>\n",
       "  <th>Intercept</th> <td>-5.8199</td>  <td>1.9207</td>  <td>-3.0301</td> <td>0.0024</td> <td>-9.5843</td> <td>-2.0555</td>\n",
       "</tr>\n",
       "<tr>\n",
       "  <th>mempc</th>     <td>4.4892</td>   <td>0.9857</td>  <td>4.5545</td>  <td>0.0000</td> <td>2.5573</td>  <td>6.4210</td> \n",
       "</tr>\n",
       "<tr>\n",
       "  <th>lnpop</th>     <td>0.0907</td>   <td>0.1285</td>  <td>0.7058</td>  <td>0.4803</td> <td>-0.1612</td> <td>0.3426</td> \n",
       "</tr>\n",
       "</table>"
      ],
      "text/plain": [
       "<class 'statsmodels.iolib.summary2.Summary'>\n",
       "\"\"\"\n",
       "                         Results: Logit\n",
       "=================================================================\n",
       "Model:              Logit            Pseudo R-squared: 0.129     \n",
       "Dependent Variable: success          AIC:              199.9014  \n",
       "Date:               2019-11-24 14:17 BIC:              209.1827  \n",
       "No. Observations:   163              Log-Likelihood:   -96.951   \n",
       "Df Model:           2                LL-Null:          -111.35   \n",
       "Df Residuals:       160              LLR p-value:      5.5508e-07\n",
       "Converged:          1.0000           Scale:            1.0000    \n",
       "No. Iterations:     5.0000                                       \n",
       "------------------------------------------------------------------\n",
       "               Coef.   Std.Err.     z     P>|z|    [0.025   0.975]\n",
       "------------------------------------------------------------------\n",
       "Intercept     -5.8199    1.9207  -3.0301  0.0024  -9.5843  -2.0555\n",
       "mempc          4.4892    0.9857   4.5545  0.0000   2.5573   6.4210\n",
       "lnpop          0.0907    0.1285   0.7058  0.4803  -0.1612   0.3426\n",
       "=================================================================\n",
       "\n",
       "\"\"\""
      ]
     },
     "execution_count": 26,
     "metadata": {},
     "output_type": "execute_result"
    }
   ],
   "source": [
    "from statsmodels.formula.api import logit\n",
    "\n",
    "success_mod = logit(\"success ~ mempc + lnpop\", clear_data).fit()\n",
    "success_mod.summary2()"
   ]
  },
  {
   "cell_type": "code",
   "execution_count": 27,
   "metadata": {},
   "outputs": [
    {
     "data": {
      "text/plain": [
       "<matplotlib.axes._subplots.AxesSubplot at 0x7f5e82122160>"
      ]
     },
     "execution_count": 27,
     "metadata": {},
     "output_type": "execute_result"
    },
    {
     "data": {
      "image/png": "[encoded data removed]",
      "text/plain": [
       "<Figure size 1008x720 with 1 Axes>"
      ]
     },
     "metadata": {},
     "output_type": "display_data"
    }
   ],
   "source": [
    "X = clear_data[['mempc' , 'lnpop']]\n",
    "y = success_mod.predict(X)\n",
    "x = X.iloc[:, 0]\n",
    "plt.figure(figsize=[14,10])\n",
    "plt.scatter(x,y)\n",
    "sns.regplot(x, y, data=data, logistic=True)"
   ]
  },
  {
   "cell_type": "raw",
   "metadata": {},
   "source": [
    "https://en.wikipedia.org/wiki/Logistic_regression\n",
    "\n",
    "use the example to explain the results of the summary"
   ]
  },
  {
   "cell_type": "code",
   "execution_count": 28,
   "metadata": {},
   "outputs": [
    {
     "data": {
      "text/plain": [
       "<matplotlib.collections.PathCollection at 0x7f5e813724a8>"
      ]
     },
     "execution_count": 28,
     "metadata": {},
     "output_type": "execute_result"
    },
    {
     "data": {
      "image/png": "[encoded data removed]",
      "text/plain": [
       "<Figure size 432x288 with 1 Axes>"
      ]
     },
     "metadata": {},
     "output_type": "display_data"
    }
   ],
   "source": [
    "x = data.lnpop\n",
    "y = data.mempc\n",
    "plt.scatter(x,y)"
   ]
  },
  {
   "cell_type": "markdown",
   "metadata": {},
   "source": [
    "The intercept is the log odds of succeding when all the independent variables are held at zero; that is . That means that "
   ]
  },
  {
   "cell_type": "code",
   "execution_count": 29,
   "metadata": {},
   "outputs": [],
   "source": [
    "import math"
   ]
  },
  {
   "cell_type": "code",
   "execution_count": 30,
   "metadata": {},
   "outputs": [
    {
     "data": {
      "text/plain": [
       "0.001996007984031936"
      ]
     },
     "execution_count": 30,
     "metadata": {},
     "output_type": "execute_result"
    }
   ],
   "source": [
    "0.002/1.002"
   ]
  },
  {
   "cell_type": "code",
   "execution_count": 31,
   "metadata": {},
   "outputs": [
    {
     "data": {
      "text/plain": [
       "0.0029679019201339445"
      ]
     },
     "execution_count": 31,
     "metadata": {},
     "output_type": "execute_result"
    }
   ],
   "source": [
    "math.exp(-5.8199)"
   ]
  },
  {
   "cell_type": "code",
   "execution_count": 32,
   "metadata": {},
   "outputs": [
    {
     "data": {
      "text/plain": [
       "0.011333413154667387"
      ]
     },
     "execution_count": 32,
     "metadata": {},
     "output_type": "execute_result"
    }
   ],
   "source": [
    "math.exp(-4.48)"
   ]
  },
  {
   "cell_type": "markdown",
   "metadata": {},
   "source": [
    "Here I have to explain what I see"
   ]
  },
  {
   "cell_type": "markdown",
   "metadata": {},
   "source": [
    "Explain the result due to the mathematical typo"
   ]
  },
  {
   "cell_type": "markdown",
   "metadata": {},
   "source": [
    "* That means that the logistic regression model is:\n",
    "\n",
    "$$ log\\frac{p}{1 - p}  = \\beta_0 + \\beta_1 x$$\n",
    "\n",
    "* And we have, solving for $p(x)$:\n",
    "\n",
    "$$ p(x) = \\frac {1}{1+e^{-(\\beta_0 + \\beta_1 x)}} $$"
   ]
  },
  {
   "cell_type": "code",
   "execution_count": 33,
   "metadata": {},
   "outputs": [
    {
     "data": {
      "text/plain": [
       "<matplotlib.collections.PathCollection at 0x7f5e812d6da0>"
      ]
     },
     "execution_count": 33,
     "metadata": {},
     "output_type": "execute_result"
    },
    {
     "data": {
      "image/png": "[encoded data removed]",
      "text/plain": [
       "<Figure size 1080x792 with 1 Axes>"
      ]
     },
     "metadata": {},
     "output_type": "display_data"
    }
   ],
   "source": [
    "# y = 1 / (1 + np.exp(-x))\n",
    "\n",
    "x = clear_data.mempc\n",
    "y = 1/(1+ np.exp(-success_mod.fittedvalues))\n",
    "# y = success_mod.predict()\n",
    "fig = plt.figure(figsize=[15,11])\n",
    "ax = fig.subplots()\n",
    "ax.set_xlabel('Participants per Capita, logged')\n",
    "ax.set_ylabel('Probability of Success')\n",
    "ax.scatter(x,y)"
   ]
  },
  {
   "cell_type": "code",
   "execution_count": 34,
   "metadata": {},
   "outputs": [
    {
     "data": {
      "text/plain": [
       "51.75073712346991"
      ]
     },
     "execution_count": 34,
     "metadata": {},
     "output_type": "execute_result"
    }
   ],
   "source": [
    "10**data.mempc.max()"
   ]
  },
  {
   "cell_type": "code",
   "execution_count": 35,
   "metadata": {},
   "outputs": [
    {
     "data": {
      "text/plain": [
       "160"
      ]
     },
     "execution_count": 35,
     "metadata": {},
     "output_type": "execute_result"
    }
   ],
   "source": [
    "#we have 160 records with missing values\n",
    "data.mempc.isnull().sum()"
   ]
  },
  {
   "cell_type": "markdown",
   "metadata": {},
   "source": [
    "We can calculate the probability of success beforehand"
   ]
  },
  {
   "cell_type": "code",
   "execution_count": 36,
   "metadata": {},
   "outputs": [
    {
     "data": {
      "text/plain": [
       "0.34674922600619196"
      ]
     },
     "execution_count": 36,
     "metadata": {},
     "output_type": "execute_result"
    }
   ],
   "source": [
    "data.success.sum()/data.success.count()"
   ]
  },
  {
   "cell_type": "markdown",
   "metadata": {},
   "source": [
    "### QUESTION 6"
   ]
  },
  {
   "cell_type": "markdown",
   "metadata": {},
   "source": [
    "From the results you obtained in the previous question, find the percentage of the population that is the tipping point for success in a campaign."
   ]
  },
  {
   "cell_type": "markdown",
   "metadata": {},
   "source": [
    "Since we want to calculate the percentage of the population that is the tipping point for success, we can turn this question into a classification problem. In this problem, we are looking to classify the percentage of populations (mempc) to either successfull of not. "
   ]
  },
  {
   "cell_type": "markdown",
   "metadata": {},
   "source": [
    "After that, we have to conclude to a threshold that always classifies the non successful campaigns correctly."
   ]
  },
  {
   "cell_type": "markdown",
   "metadata": {},
   "source": [
    "In other words, I am looking for a high threshold with **0 False Positives** and **maximum True Positives**. Note here that a high threshold:\n",
    "\n",
    "* Decreases the number of False Possitives (that's what I want)\n",
    "* Increases the number of False Negatives (I don't care If I classify a campaign as no successful and in the end it was successful)"
   ]
  },
  {
   "cell_type": "markdown",
   "metadata": {},
   "source": [
    "Thus, we will do a Logistic Regression with sklearn in order to find the ROC curve"
   ]
  },
  {
   "cell_type": "code",
   "execution_count": 63,
   "metadata": {},
   "outputs": [],
   "source": [
    "from sklearn.model_selection import train_test_split \n",
    "from sklearn.linear_model import LogisticRegression\n",
    "from sklearn import metrics"
   ]
  },
  {
   "cell_type": "markdown",
   "metadata": {},
   "source": [
    "We can't use data with missing values, so we drop them."
   ]
  },
  {
   "cell_type": "code",
   "execution_count": 39,
   "metadata": {},
   "outputs": [],
   "source": [
    "clear_data = data.loc[data.mempc.notna()]"
   ]
  },
  {
   "cell_type": "markdown",
   "metadata": {},
   "source": [
    "The regression will have as independant variables **mempc** and **lnpop** and as binary dependant variable **success**"
   ]
  },
  {
   "cell_type": "code",
   "execution_count": 64,
   "metadata": {},
   "outputs": [],
   "source": [
    "X = clear_data[['mempc' , 'lnpop']]\n",
    "y = clear_data.success\n",
    "X_train,X_test,y_train,y_test=train_test_split(X,y,test_size=0.25,random_state=0)"
   ]
  },
  {
   "cell_type": "code",
   "execution_count": 50,
   "metadata": {},
   "outputs": [
    {
     "name": "stderr",
     "output_type": "stream",
     "text": [
      "/home/ion/.local/lib/python3.6/site-packages/sklearn/linear_model/logistic.py:432: FutureWarning: Default solver will be changed to 'lbfgs' in 0.22. Specify a solver to silence this warning.\n",
      "  FutureWarning)\n"
     ]
    },
    {
     "data": {
      "text/plain": [
       "LogisticRegression(C=1.0, class_weight=None, dual=False, fit_intercept=True,\n",
       "                   intercept_scaling=1, l1_ratio=None, max_iter=100,\n",
       "                   multi_class='warn', n_jobs=None, penalty='l2',\n",
       "                   random_state=None, solver='warn', tol=0.0001, verbose=0,\n",
       "                   warm_start=False)"
      ]
     },
     "execution_count": 50,
     "metadata": {},
     "output_type": "execute_result"
    }
   ],
   "source": [
    "clf = LogisticRegression()\n",
    "clf.fit(X_train,y_train)"
   ]
  },
  {
   "cell_type": "code",
   "execution_count": 51,
   "metadata": {},
   "outputs": [
    {
     "name": "stderr",
     "output_type": "stream",
     "text": [
      "/home/ion/.local/lib/python3.6/site-packages/statsmodels/genmod/families/family.py:890: RuntimeWarning: invalid value encountered in true_divide\n",
      "  n_endog_mu = self._clean((1. - endog) / (1. - mu))\n"
     ]
    },
    {
     "data": {
      "text/plain": [
       "<matplotlib.axes._subplots.AxesSubplot at 0x7f5e81304e80>"
      ]
     },
     "execution_count": 51,
     "metadata": {},
     "output_type": "execute_result"
    },
    {
     "data": {
      "image/png": "[encoded data removed]",
      "text/plain": [
       "<Figure size 1008x720 with 1 Axes>"
      ]
     },
     "metadata": {},
     "output_type": "display_data"
    }
   ],
   "source": [
    "y = clf.predict(X_train)\n",
    "x = X_train.iloc[:, 0]\n",
    "plt.figure(figsize=[14,10])\n",
    "plt.scatter(x,y)\n",
    "sns.regplot(x, y, data=data, logistic=True)"
   ]
  },
  {
   "cell_type": "code",
   "execution_count": null,
   "metadata": {},
   "outputs": [],
   "source": []
  },
  {
   "cell_type": "code",
   "execution_count": 52,
   "metadata": {},
   "outputs": [
    {
     "data": {
      "text/plain": [
       "array([[18,  5],\n",
       "       [13,  5]])"
      ]
     },
     "execution_count": 52,
     "metadata": {},
     "output_type": "execute_result"
    }
   ],
   "source": [
    "y_pred = clf.predict(X_test)\n",
    "\n",
    "cnf_matrix = metrics.confusion_matrix(y_test, y_pred)\n",
    "\n",
    "cnf_matrix"
   ]
  },
  {
   "cell_type": "code",
   "execution_count": 53,
   "metadata": {},
   "outputs": [
    {
     "data": {
      "text/plain": [
       "Text(0.5, 257.44, 'Predicted label')"
      ]
     },
     "execution_count": 53,
     "metadata": {},
     "output_type": "execute_result"
    },
    {
     "data": {
      "image/png": "[encoded data removed]",
      "text/plain": [
       "<Figure size 432x288 with 2 Axes>"
      ]
     },
     "metadata": {},
     "output_type": "display_data"
    }
   ],
   "source": [
    "fig, ax = plt.subplots()\n",
    "class_names = ['success', 'no success']\n",
    "tick_marks = np.arange(len(class_names))\n",
    "plt.xticks(tick_marks, class_names)\n",
    "plt.yticks(tick_marks, class_names)\n",
    "sns.heatmap(pd.DataFrame(cnf_matrix), annot=True, cmap=\"Blues\" ,fmt='g')\n",
    "ax.xaxis.set_label_position(\"top\")\n",
    "plt.tight_layout()\n",
    "plt.title('Confusion matrix', y=1.1)\n",
    "plt.ylabel('Actual label')\n",
    "plt.xlabel('Predicted label')"
   ]
  },
  {
   "cell_type": "code",
   "execution_count": 54,
   "metadata": {},
   "outputs": [
    {
     "name": "stdout",
     "output_type": "stream",
     "text": [
      "Accuracy: 0.5609756097560976\n",
      "Precision: 0.5\n",
      "Recall: 0.2777777777777778\n"
     ]
    }
   ],
   "source": [
    "print(\"Accuracy:\",metrics.accuracy_score(y_test, y_pred))\n",
    "print(\"Precision:\",metrics.precision_score(y_test, y_pred))\n",
    "print(\"Recall:\",metrics.recall_score(y_test, y_pred))"
   ]
  },
  {
   "cell_type": "code",
   "execution_count": 55,
   "metadata": {},
   "outputs": [
    {
     "data": {
      "image/png": "[encoded data removed]",
      "text/plain": [
       "<Figure size 1008x720 with 1 Axes>"
      ]
     },
     "metadata": {},
     "output_type": "display_data"
    }
   ],
   "source": [
    "y_pred_proba = clf.predict_proba(X_test)[::, 1]\n",
    "# y_pred_proba\n",
    "fpr, tpr, thresholds = metrics.roc_curve(y_test,  y_pred_proba)\n",
    "auc = metrics.roc_auc_score(y_test, y_pred_proba)\n",
    "plt.figure(figsize=[14,10])\n",
    "plt.plot(fpr,tpr,label=\"data, auc=\"+str(auc))\n",
    "z = np.linspace(0, 1, 1000)\n",
    "plt.plot(z, z, ':r')\n",
    "plt.legend(loc=4)\n",
    "plt.show()"
   ]
  },
  {
   "cell_type": "markdown",
   "metadata": {},
   "source": [
    "The **ROC** graph summarizes all of the confusion matrices that each threshold produced"
   ]
  },
  {
   "cell_type": "code",
   "execution_count": 56,
   "metadata": {},
   "outputs": [
    {
     "data": {
      "text/plain": [
       "array([1.65509535, 0.65509535, 0.6199306 , 0.54622841, 0.50677904,\n",
       "       0.45582068, 0.42484961, 0.41982757, 0.41025372, 0.39393568,\n",
       "       0.39225259, 0.38785854, 0.37301434, 0.3672892 , 0.31201054,\n",
       "       0.18228502, 0.16542857, 0.1157023 ])"
      ]
     },
     "execution_count": 56,
     "metadata": {},
     "output_type": "execute_result"
    }
   ],
   "source": [
    "thresholds"
   ]
  },
  {
   "cell_type": "code",
   "execution_count": 57,
   "metadata": {},
   "outputs": [],
   "source": [
    "from sklearn.ensemble import RandomForestClassifier"
   ]
  },
  {
   "cell_type": "code",
   "execution_count": 58,
   "metadata": {},
   "outputs": [],
   "source": [
    "rf = RandomForestClassifier(n_estimators=100, max_depth=3, random_state=0)"
   ]
  },
  {
   "cell_type": "code",
   "execution_count": 59,
   "metadata": {},
   "outputs": [
    {
     "data": {
      "text/plain": [
       "RandomForestClassifier(bootstrap=True, class_weight=None, criterion='gini',\n",
       "                       max_depth=3, max_features='auto', max_leaf_nodes=None,\n",
       "                       min_impurity_decrease=0.0, min_impurity_split=None,\n",
       "                       min_samples_leaf=1, min_samples_split=2,\n",
       "                       min_weight_fraction_leaf=0.0, n_estimators=100,\n",
       "                       n_jobs=None, oob_score=False, random_state=0, verbose=0,\n",
       "                       warm_start=False)"
      ]
     },
     "execution_count": 59,
     "metadata": {},
     "output_type": "execute_result"
    }
   ],
   "source": [
    "rf.fit(X_train, y_train)"
   ]
  },
  {
   "cell_type": "code",
   "execution_count": 60,
   "metadata": {},
   "outputs": [
    {
     "data": {
      "image/png": "[encoded data removed]",
      "text/plain": [
       "<Figure size 1008x720 with 1 Axes>"
      ]
     },
     "metadata": {},
     "output_type": "display_data"
    }
   ],
   "source": [
    "y_pred_proba = rf.predict_proba(X_test)[::,1]\n",
    "fpr, tpr, thresholds = metrics.roc_curve(y_test,  y_pred_proba)\n",
    "auc = metrics.roc_auc_score(y_test, y_pred_proba)\n",
    "plt.figure(figsize=[14,10])\n",
    "plt.plot(fpr,tpr,label=\"data, auc=\"+str(auc))\n",
    "z = np.linspace(0, 1, 1000)\n",
    "plt.plot(z, z, ':r')\n",
    "plt.legend(loc=4)\n",
    "plt.show()"
   ]
  },
  {
   "cell_type": "code",
   "execution_count": 61,
   "metadata": {},
   "outputs": [
    {
     "data": {
      "text/plain": [
       "array([1.78181438, 0.78181438, 0.77049845, 0.72152101, 0.59054082,\n",
       "       0.55508059, 0.55071367, 0.54895814, 0.5432454 , 0.51531667,\n",
       "       0.48264756, 0.42603016, 0.40608524, 0.37568523, 0.37215552,\n",
       "       0.36753644, 0.36184799, 0.34903259, 0.34191125, 0.33169663,\n",
       "       0.31191329, 0.31167026, 0.30820691, 0.29013968, 0.23794542,\n",
       "       0.21614361, 0.20603606, 0.14127451, 0.11904392])"
      ]
     },
     "execution_count": 61,
     "metadata": {},
     "output_type": "execute_result"
    }
   ],
   "source": [
    "thresholds"
   ]
  },
  {
   "cell_type": "code",
   "execution_count": null,
   "metadata": {},
   "outputs": [],
   "source": []
  },
  {
   "cell_type": "code",
   "execution_count": null,
   "metadata": {},
   "outputs": [],
   "source": []
  },
  {
   "cell_type": "code",
   "execution_count": 62,
   "metadata": {},
   "outputs": [
    {
     "data": {
      "text/plain": [
       "0      1.226839\n",
       "1           NaN\n",
       "2      1.200712\n",
       "3           NaN\n",
       "4           NaN\n",
       "         ...   \n",
       "318         NaN\n",
       "319    0.659205\n",
       "320         NaN\n",
       "321    0.750704\n",
       "322    0.901918\n",
       "Name: mempc, Length: 323, dtype: float32"
      ]
     },
     "execution_count": 62,
     "metadata": {},
     "output_type": "execute_result"
    }
   ],
   "source": [
    "data.mempc"
   ]
  },
  {
   "cell_type": "code",
   "execution_count": null,
   "metadata": {},
   "outputs": [],
   "source": [
    "import math\n",
    "round(math.log(data.peakmembership[0]),2) == round(data.lmembers[0],2)"
   ]
  },
  {
   "cell_type": "code",
   "execution_count": null,
   "metadata": {},
   "outputs": [],
   "source": [
    "data.mempc[0]"
   ]
  },
  {
   "cell_type": "code",
   "execution_count": null,
   "metadata": {},
   "outputs": [],
   "source": [
    "data.lmembers[0]/data.lnpop[0]"
   ]
  },
  {
   "cell_type": "code",
   "execution_count": null,
   "metadata": {},
   "outputs": [],
   "source": [
    "data.mempc[0]"
   ]
  },
  {
   "cell_type": "code",
   "execution_count": null,
   "metadata": {},
   "outputs": [],
   "source": [
    "temp = 10**data.mempc[0]\n",
    "temp"
   ]
  },
  {
   "cell_type": "code",
   "execution_count": null,
   "metadata": {},
   "outputs": [],
   "source": [
    "math.log10(temp)"
   ]
  },
  {
   "cell_type": "code",
   "execution_count": null,
   "metadata": {},
   "outputs": [],
   "source": [
    "data.mempc.max()"
   ]
  },
  {
   "cell_type": "code",
   "execution_count": null,
   "metadata": {},
   "outputs": [],
   "source": [
    "temp = data.loc[data.mempc == data.mempc.max()]"
   ]
  },
  {
   "cell_type": "code",
   "execution_count": null,
   "metadata": {},
   "outputs": [],
   "source": [
    "temp.success"
   ]
  },
  {
   "cell_type": "code",
   "execution_count": null,
   "metadata": {},
   "outputs": [],
   "source": [
    "smempc = data.sort_values(by='mempc', ascending=False)"
   ]
  },
  {
   "cell_type": "code",
   "execution_count": null,
   "metadata": {},
   "outputs": [],
   "source": [
    "smempc[['mempc', 'success']][:20]"
   ]
  },
  {
   "cell_type": "code",
   "execution_count": null,
   "metadata": {},
   "outputs": [],
   "source": [
    "10**1.42"
   ]
  },
  {
   "cell_type": "markdown",
   "metadata": {},
   "source": [
    "out of this table, we can conclude that the tipping point of participation for success is 26%"
   ]
  },
  {
   "cell_type": "code",
   "execution_count": null,
   "metadata": {},
   "outputs": [],
   "source": [
    "data.iloc[232].location"
   ]
  },
  {
   "cell_type": "code",
   "execution_count": null,
   "metadata": {},
   "outputs": [],
   "source": [
    "x = clear_data.mempc\n",
    "y1 = 1/(1+ np.exp(success_mod.fittedvalues))\n",
    "y2 = 1/(1+ np.exp(-success_mod.fittedvalues))\n",
    "\n",
    "plt.figure(figsize=[14,10])\n",
    "plt.xlabel('Participants per Capita, logged')\n",
    "plt.ylabel('Probability of Success')\n",
    "plt.scatter(x,y1)\n",
    "plt.scatter(x,y2)\n",
    "plt.show()"
   ]
  },
  {
   "cell_type": "code",
   "execution_count": null,
   "metadata": {},
   "outputs": [],
   "source": [
    "10**1.1"
   ]
  },
  {
   "cell_type": "code",
   "execution_count": null,
   "metadata": {},
   "outputs": [],
   "source": []
  },
  {
   "cell_type": "code",
   "execution_count": null,
   "metadata": {},
   "outputs": [],
   "source": []
  },
  {
   "cell_type": "code",
   "execution_count": null,
   "metadata": {},
   "outputs": [],
   "source": []
  },
  {
   "cell_type": "code",
   "execution_count": null,
   "metadata": {},
   "outputs": [],
   "source": []
  },
  {
   "cell_type": "markdown",
   "metadata": {},
   "source": [
    "## Question 7"
   ]
  },
  {
   "cell_type": "code",
   "execution_count": null,
   "metadata": {},
   "outputs": [],
   "source": [
    "success_mod = logit(\"success ~ nonviol + tpolity + lnpop + lmembers\", clear_data).fit()\n",
    "success_mod.summary2()"
   ]
  },
  {
   "cell_type": "code",
   "execution_count": null,
   "metadata": {},
   "outputs": [],
   "source": []
  },
  {
   "cell_type": "code",
   "execution_count": null,
   "metadata": {},
   "outputs": [],
   "source": [
    "# success_mod = logit(\"success ~ nonviol + location\", data).fit()\n",
    "# success_mod.summary2()"
   ]
  },
  {
   "cell_type": "code",
   "execution_count": null,
   "metadata": {},
   "outputs": [],
   "source": [
    "plt.figure(figsize=[16, 14])\n",
    "plt.scatter(data.nonviol[:100], data.location[:100])"
   ]
  },
  {
   "cell_type": "code",
   "execution_count": null,
   "metadata": {},
   "outputs": [],
   "source": []
  },
  {
   "cell_type": "code",
   "execution_count": null,
   "metadata": {},
   "outputs": [],
   "source": []
  },
  {
   "cell_type": "code",
   "execution_count": null,
   "metadata": {},
   "outputs": [],
   "source": []
  },
  {
   "cell_type": "code",
   "execution_count": null,
   "metadata": {},
   "outputs": [],
   "source": []
  },
  {
   "cell_type": "code",
   "execution_count": null,
   "metadata": {},
   "outputs": [],
   "source": []
  },
  {
   "cell_type": "code",
   "execution_count": null,
   "metadata": {},
   "outputs": [],
   "source": []
  },
  {
   "cell_type": "code",
   "execution_count": null,
   "metadata": {},
   "outputs": [],
   "source": []
  }
 ],
 "metadata": {
  "kernelspec": {
   "display_name": "Python 3",
   "language": "python",
   "name": "python3"
  },
  "language_info": {
   "codemirror_mode": {
    "name": "ipython",
    "version": 3
   },
   "file_extension": ".py",
   "mimetype": "text/x-python",
   "name": "python",
   "nbconvert_exporter": "python",
   "pygments_lexer": "ipython3",
   "version": "3.6.8"
  }
 },
 "nbformat": 4,
 "nbformat_minor": 2
}
