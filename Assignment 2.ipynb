{
 "cells": [
  {
   "cell_type": "markdown",
   "metadata": {},
   "source": [
    "# Exploring Why Civil Resistance Works"
   ]
  },
  {
   "cell_type": "markdown",
   "metadata": {},
   "source": [
    "For more than a century, from 1900 to 2006, campaigns of nonviolent resistance were more than twice as effective as their violent counterparts in achieving their stated goals. By attracting impressive support from citizens, whose activism takes the form of protests, boycotts, civil disobedience, and other forms of nonviolent noncooperation, these efforts help separate regimes from their main sources of power and produce remarkable results, even in Iran, Burma, the Philippines, and the Palestinian Territories.\n",
    "\n",
    "In this report, some of the findings of this research done by [Erical Chenoweth](https://www.ericachenoweth.com/) and Maria J. Stephan will be replicated. The results of the reseach were then published as a book with the name [Why Civil Resistance Works](https://www.ericachenoweth.com/research/wcrw)\n",
    "\n",
    "You can find the data at <https://www.ericachenoweth.com/wp-content/uploads/2012/01/Data-and-Replication-Files-3.zip> and data documentation at <https://www.ericachenoweth.com/wp-content/uploads/2019/07/WCRW-Appendix.pdf>.\n",
    "\n",
    "---\n",
    "\n",
    "> Ioannis (Ion) Petropoulos, 8160107 <br />\n",
    "> Department of Management Science and Technology <br />\n",
    "> Athens University of Economics and Business <br />\n",
    "> ionpetro@gmail.com"
   ]
  },
  {
   "cell_type": "markdown",
   "metadata": {},
   "source": [
    "Firstly, we import the python libraries needed for the data analysis."
   ]
  },
  {
   "cell_type": "code",
   "execution_count": 1,
   "metadata": {},
   "outputs": [],
   "source": [
    "import pandas as pd\n",
    "import numpy as np\n",
    "import matplotlib.pyplot as plt\n",
    "import seaborn as sns\n",
    "\n",
    "%matplotlib inline"
   ]
  },
  {
   "cell_type": "markdown",
   "metadata": {},
   "source": [
    "In order to read the data, place them on a folder **data**"
   ]
  },
  {
   "cell_type": "code",
   "execution_count": 2,
   "metadata": {},
   "outputs": [],
   "source": [
    "filepath = 'data/WCRWreplication.dta'\n",
    "data = pd.read_stata(filepath)"
   ]
  },
  {
   "cell_type": "markdown",
   "metadata": {},
   "source": [
    "The dataset consists of 323 rows and 85 columns."
   ]
  },
  {
   "cell_type": "code",
   "execution_count": 3,
   "metadata": {},
   "outputs": [
    {
     "data": {
      "text/plain": [
       "(323, 85)"
      ]
     },
     "execution_count": 3,
     "metadata": {},
     "output_type": "execute_result"
    }
   ],
   "source": [
    "data.shape"
   ]
  },
  {
   "cell_type": "markdown",
   "metadata": {},
   "source": [
    "## Frequency of nonviolent and violent campaigns"
   ]
  },
  {
   "cell_type": "markdown",
   "metadata": {},
   "source": [
    "We will replicate a plot included in the book, where we can observe the number of nonviolent and violent campaigns that took place globally over the decades  "
   ]
  },
  {
   "cell_type": "code",
   "execution_count": 4,
   "metadata": {},
   "outputs": [
    {
     "data": {
      "text/html": [
       "<div>\n",
       "<style scoped>\n",
       "    .dataframe tbody tr th:only-of-type {\n",
       "        vertical-align: middle;\n",
       "    }\n",
       "\n",
       "    .dataframe tbody tr th {\n",
       "        vertical-align: top;\n",
       "    }\n",
       "\n",
       "    .dataframe thead th {\n",
       "        text-align: right;\n",
       "    }\n",
       "</style>\n",
       "<table border=\"1\" class=\"dataframe\">\n",
       "  <thead>\n",
       "    <tr style=\"text-align: right;\">\n",
       "      <th></th>\n",
       "      <th>eyear</th>\n",
       "      <th>viol</th>\n",
       "      <th>counter</th>\n",
       "    </tr>\n",
       "  </thead>\n",
       "  <tbody>\n",
       "    <tr>\n",
       "      <td>0</td>\n",
       "      <td>1902</td>\n",
       "      <td>1</td>\n",
       "      <td>2</td>\n",
       "    </tr>\n",
       "    <tr>\n",
       "      <td>1</td>\n",
       "      <td>1903</td>\n",
       "      <td>1</td>\n",
       "      <td>3</td>\n",
       "    </tr>\n",
       "    <tr>\n",
       "      <td>2</td>\n",
       "      <td>1904</td>\n",
       "      <td>1</td>\n",
       "      <td>1</td>\n",
       "    </tr>\n",
       "    <tr>\n",
       "      <td>3</td>\n",
       "      <td>1905</td>\n",
       "      <td>1</td>\n",
       "      <td>2</td>\n",
       "    </tr>\n",
       "    <tr>\n",
       "      <td>4</td>\n",
       "      <td>1906</td>\n",
       "      <td>1</td>\n",
       "      <td>3</td>\n",
       "    </tr>\n",
       "  </tbody>\n",
       "</table>\n",
       "</div>"
      ],
      "text/plain": [
       "   eyear  viol  counter\n",
       "0   1902     1        2\n",
       "1   1903     1        3\n",
       "2   1904     1        1\n",
       "3   1905     1        2\n",
       "4   1906     1        3"
      ]
     },
     "execution_count": 4,
     "metadata": {},
     "output_type": "execute_result"
    }
   ],
   "source": [
    "#group by end year and violent indicator\n",
    "violgroup = data.groupby(['eyear', 'viol']).count()\n",
    "violgroup.reset_index(inplace=True)\n",
    "violgroup = violgroup.iloc[:, 0:3]\n",
    "violgroup.rename(columns={'defect' : 'counter'}, inplace=True)\n",
    "violgroup.head()"
   ]
  },
  {
   "cell_type": "markdown",
   "metadata": {},
   "source": [
    "We only need to use the violent column, where 1 indicates violent campaigns and 0 indicated inviolent (civil) ones."
   ]
  },
  {
   "cell_type": "code",
   "execution_count": 5,
   "metadata": {},
   "outputs": [],
   "source": [
    "violent = violgroup.loc[violgroup.viol == 1]\n",
    "nonviolent = violgroup.loc[violgroup.viol == 0]"
   ]
  },
  {
   "cell_type": "code",
   "execution_count": 6,
   "metadata": {},
   "outputs": [
    {
     "data": {
      "text/html": [
       "<div>\n",
       "<style scoped>\n",
       "    .dataframe tbody tr th:only-of-type {\n",
       "        vertical-align: middle;\n",
       "    }\n",
       "\n",
       "    .dataframe tbody tr th {\n",
       "        vertical-align: top;\n",
       "    }\n",
       "\n",
       "    .dataframe thead th {\n",
       "        text-align: right;\n",
       "    }\n",
       "</style>\n",
       "<table border=\"1\" class=\"dataframe\">\n",
       "  <thead>\n",
       "    <tr style=\"text-align: right;\">\n",
       "      <th></th>\n",
       "      <th>eyear</th>\n",
       "      <th>viol</th>\n",
       "      <th>counter</th>\n",
       "    </tr>\n",
       "  </thead>\n",
       "  <tbody>\n",
       "    <tr>\n",
       "      <td>11</td>\n",
       "      <td>1919</td>\n",
       "      <td>0</td>\n",
       "      <td>1</td>\n",
       "    </tr>\n",
       "    <tr>\n",
       "      <td>16</td>\n",
       "      <td>1923</td>\n",
       "      <td>0</td>\n",
       "      <td>1</td>\n",
       "    </tr>\n",
       "    <tr>\n",
       "      <td>23</td>\n",
       "      <td>1931</td>\n",
       "      <td>0</td>\n",
       "      <td>1</td>\n",
       "    </tr>\n",
       "    <tr>\n",
       "      <td>30</td>\n",
       "      <td>1944</td>\n",
       "      <td>0</td>\n",
       "      <td>4</td>\n",
       "    </tr>\n",
       "    <tr>\n",
       "      <td>32</td>\n",
       "      <td>1945</td>\n",
       "      <td>0</td>\n",
       "      <td>1</td>\n",
       "    </tr>\n",
       "  </tbody>\n",
       "</table>\n",
       "</div>"
      ],
      "text/plain": [
       "    eyear  viol  counter\n",
       "11   1919     0        1\n",
       "16   1923     0        1\n",
       "23   1931     0        1\n",
       "30   1944     0        4\n",
       "32   1945     0        1"
      ]
     },
     "execution_count": 6,
     "metadata": {},
     "output_type": "execute_result"
    }
   ],
   "source": [
    "nonviolent.head()"
   ]
  },
  {
   "cell_type": "markdown",
   "metadata": {},
   "source": [
    "We groupby the decade the years belong to for each campaign type"
   ]
  },
  {
   "cell_type": "code",
   "execution_count": 7,
   "metadata": {},
   "outputs": [
    {
     "data": {
      "text/html": [
       "<div>\n",
       "<style scoped>\n",
       "    .dataframe tbody tr th:only-of-type {\n",
       "        vertical-align: middle;\n",
       "    }\n",
       "\n",
       "    .dataframe tbody tr th {\n",
       "        vertical-align: top;\n",
       "    }\n",
       "\n",
       "    .dataframe thead th {\n",
       "        text-align: right;\n",
       "    }\n",
       "</style>\n",
       "<table border=\"1\" class=\"dataframe\">\n",
       "  <thead>\n",
       "    <tr style=\"text-align: right;\">\n",
       "      <th></th>\n",
       "      <th>viol</th>\n",
       "      <th>counter</th>\n",
       "    </tr>\n",
       "    <tr>\n",
       "      <th>eyear</th>\n",
       "      <th></th>\n",
       "      <th></th>\n",
       "    </tr>\n",
       "  </thead>\n",
       "  <tbody>\n",
       "    <tr>\n",
       "      <td>1910</td>\n",
       "      <td>0</td>\n",
       "      <td>1</td>\n",
       "    </tr>\n",
       "    <tr>\n",
       "      <td>1920</td>\n",
       "      <td>0</td>\n",
       "      <td>1</td>\n",
       "    </tr>\n",
       "    <tr>\n",
       "      <td>1930</td>\n",
       "      <td>0</td>\n",
       "      <td>1</td>\n",
       "    </tr>\n",
       "    <tr>\n",
       "      <td>1940</td>\n",
       "      <td>0</td>\n",
       "      <td>5</td>\n",
       "    </tr>\n",
       "    <tr>\n",
       "      <td>1950</td>\n",
       "      <td>0</td>\n",
       "      <td>9</td>\n",
       "    </tr>\n",
       "  </tbody>\n",
       "</table>\n",
       "</div>"
      ],
      "text/plain": [
       "       viol  counter\n",
       "eyear               \n",
       "1910      0        1\n",
       "1920      0        1\n",
       "1930      0        1\n",
       "1940      0        5\n",
       "1950      0        9"
      ]
     },
     "execution_count": 7,
     "metadata": {},
     "output_type": "execute_result"
    }
   ],
   "source": [
    "violdec = violent.groupby((violent.eyear//10)*10).sum()\n",
    "nonvioldec = nonviolent.groupby((nonviolent.eyear//10)*10).sum()\n",
    "nonvioldec.iloc[:, 1:3].head()"
   ]
  },
  {
   "cell_type": "markdown",
   "metadata": {},
   "source": [
    "We observe that there are no data for the 1900 - 1910 decade, thus we have to insert it hardwritten."
   ]
  },
  {
   "cell_type": "code",
   "execution_count": 8,
   "metadata": {},
   "outputs": [],
   "source": [
    "nonv = np.insert(nonvioldec.counter.values, 0, 0)"
   ]
  },
  {
   "cell_type": "markdown",
   "metadata": {},
   "source": [
    "We can now create the plot"
   ]
  },
  {
   "cell_type": "code",
   "execution_count": 9,
   "metadata": {},
   "outputs": [
    {
     "data": {
      "text/plain": [
       "Text(0, 0.5, 'campaigns')"
      ]
     },
     "execution_count": 9,
     "metadata": {},
     "output_type": "execute_result"
    },
    {
     "data": {
      "image/png": "[encoded data removed]",
      "text/plain": [
       "<Figure size 1152x648 with 1 Axes>"
      ]
     },
     "metadata": {},
     "output_type": "display_data"
    }
   ],
   "source": [
    "sns.set(style=\"whitegrid\")\n",
    "v = violdec.counter.values\n",
    "plt.figure(figsize=(16,9))\n",
    "plt.stackplot(violdec.index, v, nonv, labels=['Violent', 'Nonviolent'])\n",
    "plt.legend(loc='upper left', fontsize = 'large')\n",
    "plt.xlim(1900, 2000)\n",
    "plt.xlabel('decade')\n",
    "plt.ylabel('campaigns')"
   ]
  },
  {
   "cell_type": "markdown",
   "metadata": {},
   "source": [
    "Let's now create the original plot of the book, where the outcome is clearer "
   ]
  },
  {
   "cell_type": "code",
   "execution_count": 10,
   "metadata": {},
   "outputs": [
    {
     "data": {
      "text/plain": [
       "Text(0, 0.5, 'campaigns')"
      ]
     },
     "execution_count": 10,
     "metadata": {},
     "output_type": "execute_result"
    },
    {
     "data": {
      "image/png": "[encoded data removed]",
      "text/plain": [
       "<Figure size 1152x648 with 1 Axes>"
      ]
     },
     "metadata": {},
     "output_type": "display_data"
    }
   ],
   "source": [
    "sns.set(style=\"whitegrid\")\n",
    "plt.figure(figsize=(16,9))\n",
    "plt.stackplot(violdec.index, nonv, v, labels=['Nonviolent', 'Violent'])\n",
    "plt.legend(loc='upper left', fontsize = 'large')\n",
    "plt.xlim(1900, 2000)\n",
    "plt.xlabel('decade')\n",
    "plt.ylabel('campaigns')"
   ]
  },
  {
   "cell_type": "markdown",
   "metadata": {},
   "source": [
    "From the plot above, we can clearly observe that:\n",
    "\n",
    "* There is an increasing number of civil campaigns as time progresses\n",
    "* Till 1930, there were almost no civil campaigns on a global basis"
   ]
  },
  {
   "cell_type": "markdown",
   "metadata": {},
   "source": [
    "##  Number of Nonviolent Campaigns and Percentage of Success"
   ]
  },
  {
   "cell_type": "markdown",
   "metadata": {},
   "source": [
    "We will now attempt to create a plot showing the percentage of success of nonviolent resistances over time. We will only include data after 1940s"
   ]
  },
  {
   "cell_type": "markdown",
   "metadata": {},
   "source": [
    "A campaign is considered successful, when the outcome column is marked with 5"
   ]
  },
  {
   "cell_type": "code",
   "execution_count": 11,
   "metadata": {},
   "outputs": [
    {
     "data": {
      "text/html": [
       "<div>\n",
       "<style scoped>\n",
       "    .dataframe tbody tr th:only-of-type {\n",
       "        vertical-align: middle;\n",
       "    }\n",
       "\n",
       "    .dataframe tbody tr th {\n",
       "        vertical-align: top;\n",
       "    }\n",
       "\n",
       "    .dataframe thead th {\n",
       "        text-align: right;\n",
       "    }\n",
       "</style>\n",
       "<table border=\"1\" class=\"dataframe\">\n",
       "  <thead>\n",
       "    <tr style=\"text-align: right;\">\n",
       "      <th></th>\n",
       "      <th>outcome</th>\n",
       "    </tr>\n",
       "    <tr>\n",
       "      <th>eyear</th>\n",
       "      <th></th>\n",
       "    </tr>\n",
       "  </thead>\n",
       "  <tbody>\n",
       "    <tr>\n",
       "      <td>1950</td>\n",
       "      <td>3</td>\n",
       "    </tr>\n",
       "    <tr>\n",
       "      <td>1960</td>\n",
       "      <td>3</td>\n",
       "    </tr>\n",
       "    <tr>\n",
       "      <td>1970</td>\n",
       "      <td>4</td>\n",
       "    </tr>\n",
       "  </tbody>\n",
       "</table>\n",
       "</div>"
      ],
      "text/plain": [
       "       outcome\n",
       "eyear         \n",
       "1950         3\n",
       "1960         3\n",
       "1970         4"
      ]
     },
     "execution_count": 11,
     "metadata": {},
     "output_type": "execute_result"
    }
   ],
   "source": [
    "non = data.loc[(data.viol == 0) & (data.outcome == 5)]\n",
    "group = non.groupby('eyear').count()\n",
    "group.reset_index(inplace=True)\n",
    "#group by each decade\n",
    "groupdec = group.groupby((group.eyear//10)*10).sum()\n",
    "groupdec.iloc[3:6, 2:3]"
   ]
  },
  {
   "cell_type": "markdown",
   "metadata": {},
   "source": [
    "The percentage of success equals to:\n",
    "\n",
    "$$\\text{Percentage of Success} = \\frac{\\text{Number of successful nonviolent campaigns}}{\\text{Total number of nonviolent campains}}$$"
   ]
  },
  {
   "cell_type": "code",
   "execution_count": 68,
   "metadata": {},
   "outputs": [],
   "source": [
    "perc = groupdec.outcome/nonvioldec.counter"
   ]
  },
  {
   "cell_type": "code",
   "execution_count": 74,
   "metadata": {},
   "outputs": [
    {
     "data": {
      "text/plain": [
       "eyear\n",
       "1940    0.400000\n",
       "1950    0.333333\n",
       "1960    0.428571\n",
       "1970    0.571429\n",
       "1980    0.531250\n",
       "1990    0.521739\n",
       "2000    0.700000\n",
       "dtype: float64"
      ]
     },
     "execution_count": 74,
     "metadata": {},
     "output_type": "execute_result"
    }
   ],
   "source": [
    "# get the values from 1940 and after\n",
    "y2 = perc[3:]\n",
    "y2"
   ]
  },
  {
   "cell_type": "markdown",
   "metadata": {},
   "source": [
    "We can now draw the plot"
   ]
  },
  {
   "cell_type": "code",
   "execution_count": 75,
   "metadata": {},
   "outputs": [
    {
     "data": {
      "text/plain": [
       "<matplotlib.legend.Legend at 0x7f072b43cef0>"
      ]
     },
     "execution_count": 75,
     "metadata": {},
     "output_type": "execute_result"
    },
    {
     "data": {
      "image/png": "[encoded data removed]",
      "text/plain": [
       "<Figure size 1008x576 with 2 Axes>"
      ]
     },
     "metadata": {},
     "output_type": "display_data"
    }
   ],
   "source": [
    "width = 2.5  # the width of the bars\n",
    "# get the values from 1940 and after\n",
    "x = nonvioldec.index[3:]\n",
    "y1 = nonvioldec.counter.values[3:]\n",
    "fig = plt.figure(figsize=[14,8])\n",
    "ax1 = fig.add_subplot(111)\n",
    "ax2 = ax1.twinx()  # instantiate a second axes that shares the same x-axis\n",
    "number = ax1.bar(x - width/2, y1, width, color='b', label='number of nonviolent campaigns')\n",
    "ax1.grid(False)\n",
    "percentage = ax2.bar(x + width/2, y2, width, color='orange', label='percentage successes')\n",
    "ax2.grid(False)\n",
    "fig.legend(bbox_to_anchor=(0.0623, 0.803), loc='upper left', fontsize=12)"
   ]
  },
  {
   "cell_type": "markdown",
   "metadata": {},
   "source": [
    "Non violent resistance became twice as effective from 1940 to 2000 reaching 70% success rate. "
   ]
  },
  {
   "cell_type": "markdown",
   "metadata": {},
   "source": [
    "## Success rate per decade"
   ]
  },
  {
   "cell_type": "markdown",
   "metadata": {},
   "source": [
    "Let's now summarize the result by ploting both the nonviolent and violent campains and comparing the rates"
   ]
  },
  {
   "cell_type": "markdown",
   "metadata": {},
   "source": [
    "We have to do the same thing as before, but now for the violent insurgencies"
   ]
  },
  {
   "cell_type": "code",
   "execution_count": 90,
   "metadata": {},
   "outputs": [
    {
     "data": {
      "text/html": [
       "<div>\n",
       "<style scoped>\n",
       "    .dataframe tbody tr th:only-of-type {\n",
       "        vertical-align: middle;\n",
       "    }\n",
       "\n",
       "    .dataframe tbody tr th {\n",
       "        vertical-align: top;\n",
       "    }\n",
       "\n",
       "    .dataframe thead th {\n",
       "        text-align: right;\n",
       "    }\n",
       "</style>\n",
       "<table border=\"1\" class=\"dataframe\">\n",
       "  <thead>\n",
       "    <tr style=\"text-align: right;\">\n",
       "      <th></th>\n",
       "      <th>outcome</th>\n",
       "    </tr>\n",
       "    <tr>\n",
       "      <th>eyear</th>\n",
       "      <th></th>\n",
       "    </tr>\n",
       "  </thead>\n",
       "  <tbody>\n",
       "    <tr>\n",
       "      <td>1930</td>\n",
       "      <td>2</td>\n",
       "    </tr>\n",
       "    <tr>\n",
       "      <td>1940</td>\n",
       "      <td>7</td>\n",
       "    </tr>\n",
       "    <tr>\n",
       "      <td>1950</td>\n",
       "      <td>7</td>\n",
       "    </tr>\n",
       "  </tbody>\n",
       "</table>\n",
       "</div>"
      ],
      "text/plain": [
       "       outcome\n",
       "eyear         \n",
       "1930         2\n",
       "1940         7\n",
       "1950         7"
      ]
     },
     "execution_count": 90,
     "metadata": {},
     "output_type": "execute_result"
    }
   ],
   "source": [
    "vio = data.loc[(data.viol == 1) & (data.outcome == 5)]\n",
    "group = vio.groupby('eyear').count()\n",
    "group.reset_index(inplace=True)\n",
    "groupdec2 = group.groupby((group.eyear//10)*10).sum()\n",
    "groupdec2.iloc[3:6, 2:3]"
   ]
  },
  {
   "cell_type": "markdown",
   "metadata": {},
   "source": [
    "Calculate the violent percentage"
   ]
  },
  {
   "cell_type": "code",
   "execution_count": 85,
   "metadata": {},
   "outputs": [],
   "source": [
    "vioperc = groupdec2.outcome/violdec.counter"
   ]
  },
  {
   "cell_type": "code",
   "execution_count": 92,
   "metadata": {},
   "outputs": [
    {
     "data": {
      "text/plain": [
       "eyear\n",
       "1940    0.333333\n",
       "1950    0.368421\n",
       "1960    0.235294\n",
       "1970    0.384615\n",
       "1980    0.384615\n",
       "1990    0.266667\n",
       "2000    0.136364\n",
       "dtype: float64"
      ]
     },
     "execution_count": 92,
     "metadata": {},
     "output_type": "execute_result"
    }
   ],
   "source": [
    "x = vioperc.index[4:]\n",
    "y1 = vioperc[4:]\n",
    "# get all except the first 3 since there are no data for 1900\n",
    "y2 = perc[3:]\n",
    "y1"
   ]
  },
  {
   "cell_type": "markdown",
   "metadata": {},
   "source": [
    "Let's plot!"
   ]
  },
  {
   "cell_type": "code",
   "execution_count": 93,
   "metadata": {},
   "outputs": [
    {
     "data": {
      "text/plain": [
       "<matplotlib.legend.Legend at 0x7f072b253e10>"
      ]
     },
     "execution_count": 93,
     "metadata": {},
     "output_type": "execute_result"
    },
    {
     "data": {
      "image/png": "[encoded data removed]",
      "text/plain": [
       "<Figure size 1080x576 with 1 Axes>"
      ]
     },
     "metadata": {},
     "output_type": "display_data"
    }
   ],
   "source": [
    "width = 2.5  # the width of the bars\n",
    "\n",
    "fig = plt.figure(figsize=[15,8])\n",
    "ax = fig.add_subplot(111)\n",
    "b2 = ax.bar(x + width/2, y1, width, color='orangered')\n",
    "b1 = ax.bar(x - width/2, y2, width, color='b')\n",
    "\n",
    "plt.xlabel('decade')\n",
    "plt.ylabel('success rate')\n",
    "ax.legend((b1[0], b2[0]), ('nonviolent', 'violent'), fontsize=12)\n"
   ]
  },
  {
   "cell_type": "markdown",
   "metadata": {},
   "source": [
    "According to the diagram above, we can easily assume that the success rate of non violent campaignes has been increasing over time and the rate of failure for violent campaignes has also been increasing."
   ]
  },
  {
   "cell_type": "markdown",
   "metadata": {},
   "source": [
    "So maybe civil resistance can be used at almost any context. Anywere where violent resistance is possible, non violent resistance is also probablypossible! "
   ]
  },
  {
   "cell_type": "markdown",
   "metadata": {},
   "source": [
    "## Question 4"
   ]
  },
  {
   "cell_type": "markdown",
   "metadata": {},
   "source": [
    "Create a table with the twenty-five largest resistance campaigns, for all years, based on their number of members at highest point (peak membership). The table should include the membership, the start year, the end year, the location, the target, whether it was violent or not, and whether it was successful or not. Notice if you find anything about Greece."
   ]
  },
  {
   "cell_type": "code",
   "execution_count": 20,
   "metadata": {},
   "outputs": [
    {
     "data": {
      "text/html": [
       "<div>\n",
       "<style scoped>\n",
       "    .dataframe tbody tr th:only-of-type {\n",
       "        vertical-align: middle;\n",
       "    }\n",
       "\n",
       "    .dataframe tbody tr th {\n",
       "        vertical-align: top;\n",
       "    }\n",
       "\n",
       "    .dataframe thead th {\n",
       "        text-align: right;\n",
       "    }\n",
       "</style>\n",
       "<table border=\"1\" class=\"dataframe\">\n",
       "  <thead>\n",
       "    <tr style=\"text-align: right;\">\n",
       "      <th></th>\n",
       "      <th>peakmembership</th>\n",
       "      <th>eyear</th>\n",
       "      <th>byear</th>\n",
       "      <th>location</th>\n",
       "      <th>target</th>\n",
       "    </tr>\n",
       "  </thead>\n",
       "  <tbody>\n",
       "    <tr>\n",
       "      <td>257</td>\n",
       "      <td>4500000.0</td>\n",
       "      <td>1945</td>\n",
       "      <td>1937</td>\n",
       "      <td>China</td>\n",
       "      <td>Japanese occupation</td>\n",
       "    </tr>\n",
       "    <tr>\n",
       "      <td>206</td>\n",
       "      <td>2000000.0</td>\n",
       "      <td>1979</td>\n",
       "      <td>1977</td>\n",
       "      <td>Iran</td>\n",
       "      <td>Shah Reza Pahlavi</td>\n",
       "    </tr>\n",
       "    <tr>\n",
       "      <td>311</td>\n",
       "      <td>2000000.0</td>\n",
       "      <td>1983</td>\n",
       "      <td>1986</td>\n",
       "      <td>Philippines</td>\n",
       "      <td>Ferdinand Marcos</td>\n",
       "    </tr>\n",
       "    <tr>\n",
       "      <td>289</td>\n",
       "      <td>1000000.0</td>\n",
       "      <td>1988</td>\n",
       "      <td>1988</td>\n",
       "      <td>Burma</td>\n",
       "      <td>military junta</td>\n",
       "    </tr>\n",
       "    <tr>\n",
       "      <td>265</td>\n",
       "      <td>1000000.0</td>\n",
       "      <td>1989</td>\n",
       "      <td>1989</td>\n",
       "      <td>China</td>\n",
       "      <td>Communist regime</td>\n",
       "    </tr>\n",
       "    <tr>\n",
       "      <td>262</td>\n",
       "      <td>1000000.0</td>\n",
       "      <td>1968</td>\n",
       "      <td>1967</td>\n",
       "      <td>China</td>\n",
       "      <td>anti-Maoists</td>\n",
       "    </tr>\n",
       "    <tr>\n",
       "      <td>255</td>\n",
       "      <td>1000000.0</td>\n",
       "      <td>1949</td>\n",
       "      <td>1922</td>\n",
       "      <td>China</td>\n",
       "      <td>Kuomintang regime</td>\n",
       "    </tr>\n",
       "    <tr>\n",
       "      <td>10</td>\n",
       "      <td>1000000.0</td>\n",
       "      <td>2006</td>\n",
       "      <td>2006</td>\n",
       "      <td>Mexico</td>\n",
       "      <td>Calderon regime</td>\n",
       "    </tr>\n",
       "    <tr>\n",
       "      <td>228</td>\n",
       "      <td>1000000.0</td>\n",
       "      <td>2005</td>\n",
       "      <td>2005</td>\n",
       "      <td>Lebanon</td>\n",
       "      <td>Syrian forces</td>\n",
       "    </tr>\n",
       "    <tr>\n",
       "      <td>141</td>\n",
       "      <td>1000000.0</td>\n",
       "      <td>1999</td>\n",
       "      <td>1993</td>\n",
       "      <td>Nigeria</td>\n",
       "      <td>Military rule</td>\n",
       "    </tr>\n",
       "    <tr>\n",
       "      <td>38</td>\n",
       "      <td>1000000.0</td>\n",
       "      <td>1985</td>\n",
       "      <td>1984</td>\n",
       "      <td>Brazil</td>\n",
       "      <td>Military rule</td>\n",
       "    </tr>\n",
       "    <tr>\n",
       "      <td>105</td>\n",
       "      <td>700000.0</td>\n",
       "      <td>1991</td>\n",
       "      <td>1990</td>\n",
       "      <td>Russia</td>\n",
       "      <td>Anti-coup</td>\n",
       "    </tr>\n",
       "    <tr>\n",
       "      <td>45</td>\n",
       "      <td>700000.0</td>\n",
       "      <td>1989</td>\n",
       "      <td>1983</td>\n",
       "      <td>Chile</td>\n",
       "      <td>Augusto Pinochet</td>\n",
       "    </tr>\n",
       "    <tr>\n",
       "      <td>261</td>\n",
       "      <td>550000.0</td>\n",
       "      <td>1957</td>\n",
       "      <td>1956</td>\n",
       "      <td>China</td>\n",
       "      <td>Communist regime</td>\n",
       "    </tr>\n",
       "    <tr>\n",
       "      <td>75</td>\n",
       "      <td>500000.0</td>\n",
       "      <td>1989</td>\n",
       "      <td>1989</td>\n",
       "      <td>Czechoslovakia</td>\n",
       "      <td>Communist regime</td>\n",
       "    </tr>\n",
       "    <tr>\n",
       "      <td>189</td>\n",
       "      <td>500000.0</td>\n",
       "      <td>2003</td>\n",
       "      <td>2002</td>\n",
       "      <td>Madagascar</td>\n",
       "      <td>Radsiraka regime</td>\n",
       "    </tr>\n",
       "    <tr>\n",
       "      <td>92</td>\n",
       "      <td>500000.0</td>\n",
       "      <td>1963</td>\n",
       "      <td>1963</td>\n",
       "      <td>Greece</td>\n",
       "      <td>Karamanlis regime</td>\n",
       "    </tr>\n",
       "    <tr>\n",
       "      <td>113</td>\n",
       "      <td>500000.0</td>\n",
       "      <td>2004</td>\n",
       "      <td>2001</td>\n",
       "      <td>Ukraine</td>\n",
       "      <td>Kuchma regime</td>\n",
       "    </tr>\n",
       "    <tr>\n",
       "      <td>312</td>\n",
       "      <td>500000.0</td>\n",
       "      <td>2001</td>\n",
       "      <td>2001</td>\n",
       "      <td>Philippines</td>\n",
       "      <td>Estrada regime</td>\n",
       "    </tr>\n",
       "    <tr>\n",
       "      <td>103</td>\n",
       "      <td>400000.0</td>\n",
       "      <td>1945</td>\n",
       "      <td>1941</td>\n",
       "      <td>USSR</td>\n",
       "      <td>Nazi occupation</td>\n",
       "    </tr>\n",
       "    <tr>\n",
       "      <td>188</td>\n",
       "      <td>400000.0</td>\n",
       "      <td>1993</td>\n",
       "      <td>1991</td>\n",
       "      <td>Madagascar</td>\n",
       "      <td>Didier Radsiraka</td>\n",
       "    </tr>\n",
       "    <tr>\n",
       "      <td>63</td>\n",
       "      <td>400000.0</td>\n",
       "      <td>1953</td>\n",
       "      <td>1953</td>\n",
       "      <td>East Germany</td>\n",
       "      <td>Communist regime</td>\n",
       "    </tr>\n",
       "    <tr>\n",
       "      <td>303</td>\n",
       "      <td>340000.0</td>\n",
       "      <td>1975</td>\n",
       "      <td>1958</td>\n",
       "      <td>Vietnam</td>\n",
       "      <td>U.S. occupation</td>\n",
       "    </tr>\n",
       "    <tr>\n",
       "      <td>77</td>\n",
       "      <td>300000.0</td>\n",
       "      <td>1945</td>\n",
       "      <td>1943</td>\n",
       "      <td>Italy</td>\n",
       "      <td>Nazi occupation</td>\n",
       "    </tr>\n",
       "    <tr>\n",
       "      <td>66</td>\n",
       "      <td>300000.0</td>\n",
       "      <td>1944</td>\n",
       "      <td>1944</td>\n",
       "      <td>Poland</td>\n",
       "      <td>German occupation</td>\n",
       "    </tr>\n",
       "  </tbody>\n",
       "</table>\n",
       "</div>"
      ],
      "text/plain": [
       "     peakmembership  eyear  byear        location               target\n",
       "257       4500000.0   1945   1937           China  Japanese occupation\n",
       "206       2000000.0   1979   1977            Iran    Shah Reza Pahlavi\n",
       "311       2000000.0   1983   1986     Philippines     Ferdinand Marcos\n",
       "289       1000000.0   1988   1988           Burma       military junta\n",
       "265       1000000.0   1989   1989           China     Communist regime\n",
       "262       1000000.0   1968   1967           China         anti-Maoists\n",
       "255       1000000.0   1949   1922           China    Kuomintang regime\n",
       "10        1000000.0   2006   2006          Mexico      Calderon regime\n",
       "228       1000000.0   2005   2005         Lebanon        Syrian forces\n",
       "141       1000000.0   1999   1993         Nigeria        Military rule\n",
       "38        1000000.0   1985   1984          Brazil        Military rule\n",
       "105        700000.0   1991   1990          Russia            Anti-coup\n",
       "45         700000.0   1989   1983           Chile     Augusto Pinochet\n",
       "261        550000.0   1957   1956           China     Communist regime\n",
       "75         500000.0   1989   1989  Czechoslovakia     Communist regime\n",
       "189        500000.0   2003   2002      Madagascar     Radsiraka regime\n",
       "92         500000.0   1963   1963          Greece    Karamanlis regime\n",
       "113        500000.0   2004   2001         Ukraine        Kuchma regime\n",
       "312        500000.0   2001   2001     Philippines       Estrada regime\n",
       "103        400000.0   1945   1941            USSR      Nazi occupation\n",
       "188        400000.0   1993   1991      Madagascar     Didier Radsiraka\n",
       "63         400000.0   1953   1953    East Germany     Communist regime\n",
       "303        340000.0   1975   1958         Vietnam      U.S. occupation\n",
       "77         300000.0   1945   1943           Italy      Nazi occupation\n",
       "66         300000.0   1944   1944          Poland    German occupation"
      ]
     },
     "execution_count": 20,
     "metadata": {},
     "output_type": "execute_result"
    }
   ],
   "source": [
    "peakcamp = data.loc[:, ['peakmembership', 'eyear', 'byear', 'location', 'target']]\n",
    "\n",
    "peakcamp.sort_values(by='peakmembership', ascending=False)[:25]"
   ]
  },
  {
   "cell_type": "markdown",
   "metadata": {},
   "source": [
    "## Question 5"
   ]
  },
  {
   "cell_type": "markdown",
   "metadata": {},
   "source": [
    "Examine the effect of participation on the probability of campaign success. You should run a logistic regression for success on membership per capita, controlling for the location’s logged population the year the campaign ends. Explain your results.\n",
    "\n",
    "Having done that, create a scatter plot showing the logged participants per capita, on the 𝑥\n",
    "axis, and the probability of success, on the 𝑦 axis. "
   ]
  },
  {
   "cell_type": "code",
   "execution_count": 21,
   "metadata": {},
   "outputs": [],
   "source": [
    "clear_data = data.loc[data.mempc.notna()]"
   ]
  },
  {
   "cell_type": "code",
   "execution_count": 22,
   "metadata": {},
   "outputs": [
    {
     "data": {
      "text/plain": [
       "<matplotlib.collections.PathCollection at 0x7f0732bf6e48>"
      ]
     },
     "execution_count": 22,
     "metadata": {},
     "output_type": "execute_result"
    },
    {
     "data": {
      "image/png": "[encoded data removed]",
      "text/plain": [
       "<Figure size 432x288 with 1 Axes>"
      ]
     },
     "metadata": {},
     "output_type": "display_data"
    }
   ],
   "source": [
    "plt.scatter(data.mempc, data.success)"
   ]
  },
  {
   "cell_type": "markdown",
   "metadata": {},
   "source": [
    "Let's explore our target value and visualize it"
   ]
  },
  {
   "cell_type": "code",
   "execution_count": 23,
   "metadata": {},
   "outputs": [
    {
     "data": {
      "image/png": "[encoded data removed]",
      "text/plain": [
       "<Figure size 432x288 with 1 Axes>"
      ]
     },
     "metadata": {},
     "output_type": "display_data"
    }
   ],
   "source": [
    "data.success.value_counts()\n",
    "sns.countplot(x = 'success', data = data, palette = 'hls')\n",
    "plt.show()"
   ]
  },
  {
   "cell_type": "markdown",
   "metadata": {},
   "source": [
    "We apply binary logistic regression since the dependent variable is binary."
   ]
  },
  {
   "cell_type": "code",
   "execution_count": 24,
   "metadata": {},
   "outputs": [
    {
     "name": "stdout",
     "output_type": "stream",
     "text": [
      "Optimization terminated successfully.\n",
      "         Current function value: 0.594790\n",
      "         Iterations 5\n"
     ]
    },
    {
     "data": {
      "text/html": [
       "<table class=\"simpletable\">\n",
       "<tr>\n",
       "        <td>Model:</td>              <td>Logit</td>      <td>Pseudo R-squared:</td>    <td>0.129</td>  \n",
       "</tr>\n",
       "<tr>\n",
       "  <td>Dependent Variable:</td>      <td>success</td>           <td>AIC:</td>         <td>199.9014</td> \n",
       "</tr>\n",
       "<tr>\n",
       "         <td>Date:</td>        <td>2019-11-24 21:04</td>       <td>BIC:</td>         <td>209.1827</td> \n",
       "</tr>\n",
       "<tr>\n",
       "   <td>No. Observations:</td>         <td>163</td>        <td>Log-Likelihood:</td>    <td>-96.951</td> \n",
       "</tr>\n",
       "<tr>\n",
       "       <td>Df Model:</td>              <td>2</td>            <td>LL-Null:</td>        <td>-111.35</td> \n",
       "</tr>\n",
       "<tr>\n",
       "     <td>Df Residuals:</td>           <td>160</td>         <td>LLR p-value:</td>    <td>5.5508e-07</td>\n",
       "</tr>\n",
       "<tr>\n",
       "      <td>Converged:</td>           <td>1.0000</td>           <td>Scale:</td>         <td>1.0000</td>  \n",
       "</tr>\n",
       "<tr>\n",
       "    <td>No. Iterations:</td>        <td>5.0000</td>              <td></td>               <td></td>     \n",
       "</tr>\n",
       "</table>\n",
       "<table class=\"simpletable\">\n",
       "<tr>\n",
       "      <td></td>       <th>Coef.</th>  <th>Std.Err.</th>    <th>z</th>     <th>P>|z|</th> <th>[0.025</th>  <th>0.975]</th> \n",
       "</tr>\n",
       "<tr>\n",
       "  <th>Intercept</th> <td>-5.8199</td>  <td>1.9207</td>  <td>-3.0301</td> <td>0.0024</td> <td>-9.5843</td> <td>-2.0555</td>\n",
       "</tr>\n",
       "<tr>\n",
       "  <th>mempc</th>     <td>4.4892</td>   <td>0.9857</td>  <td>4.5545</td>  <td>0.0000</td> <td>2.5573</td>  <td>6.4210</td> \n",
       "</tr>\n",
       "<tr>\n",
       "  <th>lnpop</th>     <td>0.0907</td>   <td>0.1285</td>  <td>0.7058</td>  <td>0.4803</td> <td>-0.1612</td> <td>0.3426</td> \n",
       "</tr>\n",
       "</table>"
      ],
      "text/plain": [
       "<class 'statsmodels.iolib.summary2.Summary'>\n",
       "\"\"\"\n",
       "                         Results: Logit\n",
       "=================================================================\n",
       "Model:              Logit            Pseudo R-squared: 0.129     \n",
       "Dependent Variable: success          AIC:              199.9014  \n",
       "Date:               2019-11-24 21:04 BIC:              209.1827  \n",
       "No. Observations:   163              Log-Likelihood:   -96.951   \n",
       "Df Model:           2                LL-Null:          -111.35   \n",
       "Df Residuals:       160              LLR p-value:      5.5508e-07\n",
       "Converged:          1.0000           Scale:            1.0000    \n",
       "No. Iterations:     5.0000                                       \n",
       "------------------------------------------------------------------\n",
       "               Coef.   Std.Err.     z     P>|z|    [0.025   0.975]\n",
       "------------------------------------------------------------------\n",
       "Intercept     -5.8199    1.9207  -3.0301  0.0024  -9.5843  -2.0555\n",
       "mempc          4.4892    0.9857   4.5545  0.0000   2.5573   6.4210\n",
       "lnpop          0.0907    0.1285   0.7058  0.4803  -0.1612   0.3426\n",
       "=================================================================\n",
       "\n",
       "\"\"\""
      ]
     },
     "execution_count": 24,
     "metadata": {},
     "output_type": "execute_result"
    }
   ],
   "source": [
    "from statsmodels.formula.api import logit\n",
    "\n",
    "success_mod = logit(\"success ~ mempc + lnpop\", clear_data).fit()\n",
    "success_mod.summary2()"
   ]
  },
  {
   "cell_type": "code",
   "execution_count": 25,
   "metadata": {},
   "outputs": [
    {
     "data": {
      "text/plain": [
       "<matplotlib.axes._subplots.AxesSubplot at 0x7f0731f9d518>"
      ]
     },
     "execution_count": 25,
     "metadata": {},
     "output_type": "execute_result"
    },
    {
     "data": {
      "image/png": "[encoded data removed]",
      "text/plain": [
       "<Figure size 1008x720 with 1 Axes>"
      ]
     },
     "metadata": {},
     "output_type": "display_data"
    }
   ],
   "source": [
    "X = clear_data[['mempc' , 'lnpop']]\n",
    "y = success_mod.predict(X)\n",
    "x = X.iloc[:, 0]\n",
    "plt.figure(figsize=[14,10])\n",
    "# plt.scatter(x,y)\n",
    "sns.regplot(x, y, data=data, logistic=True)"
   ]
  },
  {
   "cell_type": "raw",
   "metadata": {},
   "source": [
    "https://en.wikipedia.org/wiki/Logistic_regression\n",
    "\n",
    "use the example to explain the results of the summary"
   ]
  },
  {
   "cell_type": "markdown",
   "metadata": {},
   "source": [
    "The intercept is the log odds of succeding when all the independent variables are held at zero; that is . That means that "
   ]
  },
  {
   "cell_type": "code",
   "execution_count": 26,
   "metadata": {},
   "outputs": [],
   "source": [
    "import math"
   ]
  },
  {
   "cell_type": "code",
   "execution_count": 27,
   "metadata": {},
   "outputs": [
    {
     "data": {
      "text/plain": [
       "0.001996007984031936"
      ]
     },
     "execution_count": 27,
     "metadata": {},
     "output_type": "execute_result"
    }
   ],
   "source": [
    "0.002/1.002"
   ]
  },
  {
   "cell_type": "code",
   "execution_count": 28,
   "metadata": {},
   "outputs": [
    {
     "data": {
      "text/plain": [
       "0.0029679019201339445"
      ]
     },
     "execution_count": 28,
     "metadata": {},
     "output_type": "execute_result"
    }
   ],
   "source": [
    "math.exp(-5.8199)"
   ]
  },
  {
   "cell_type": "code",
   "execution_count": 29,
   "metadata": {},
   "outputs": [
    {
     "data": {
      "text/plain": [
       "0.011333413154667387"
      ]
     },
     "execution_count": 29,
     "metadata": {},
     "output_type": "execute_result"
    }
   ],
   "source": [
    "math.exp(-4.48)"
   ]
  },
  {
   "cell_type": "markdown",
   "metadata": {},
   "source": [
    "Here I have to explain what I see"
   ]
  },
  {
   "cell_type": "markdown",
   "metadata": {},
   "source": [
    "Explain the result due to the mathematical typo"
   ]
  },
  {
   "cell_type": "markdown",
   "metadata": {},
   "source": [
    "* That means that the logistic regression model is:\n",
    "\n",
    "$$ log\\frac{p}{1 - p}  = \\beta_0 + \\beta_1 x$$\n",
    "\n",
    "* And we have, solving for $p(x)$:\n",
    "\n",
    "$$ p(x) = \\frac {1}{1+e^{-(\\beta_0 + \\beta_1 x)}} $$"
   ]
  },
  {
   "cell_type": "code",
   "execution_count": 30,
   "metadata": {},
   "outputs": [
    {
     "data": {
      "text/plain": [
       "<matplotlib.collections.PathCollection at 0x7f0731f23b70>"
      ]
     },
     "execution_count": 30,
     "metadata": {},
     "output_type": "execute_result"
    },
    {
     "data": {
      "image/png": "[encoded data removed]",
      "text/plain": [
       "<Figure size 1080x792 with 1 Axes>"
      ]
     },
     "metadata": {},
     "output_type": "display_data"
    }
   ],
   "source": [
    "# y = 1 / (1 + np.exp(-x))\n",
    "\n",
    "x = clear_data.mempc\n",
    "y = 1/(1+ np.exp(-success_mod.fittedvalues))\n",
    "fig = plt.figure(figsize=[15,11])\n",
    "ax = fig.subplots()\n",
    "ax.set_xlabel('Participants per Capita, logged')\n",
    "ax.set_ylabel('Probability of Success')\n",
    "ax.scatter(x,y)"
   ]
  },
  {
   "cell_type": "code",
   "execution_count": 31,
   "metadata": {},
   "outputs": [
    {
     "data": {
      "text/plain": [
       "51.75073712346991"
      ]
     },
     "execution_count": 31,
     "metadata": {},
     "output_type": "execute_result"
    }
   ],
   "source": [
    "10**data.mempc.max()"
   ]
  },
  {
   "cell_type": "code",
   "execution_count": 32,
   "metadata": {},
   "outputs": [
    {
     "data": {
      "text/plain": [
       "160"
      ]
     },
     "execution_count": 32,
     "metadata": {},
     "output_type": "execute_result"
    }
   ],
   "source": [
    "#we have 160 records with missing values\n",
    "data.mempc.isnull().sum()"
   ]
  },
  {
   "cell_type": "markdown",
   "metadata": {},
   "source": [
    "We can calculate the probability of success beforehand"
   ]
  },
  {
   "cell_type": "code",
   "execution_count": 33,
   "metadata": {},
   "outputs": [
    {
     "data": {
      "text/plain": [
       "0.34674922600619196"
      ]
     },
     "execution_count": 33,
     "metadata": {},
     "output_type": "execute_result"
    }
   ],
   "source": [
    "data.success.sum()/data.success.count()"
   ]
  },
  {
   "cell_type": "markdown",
   "metadata": {},
   "source": [
    "### QUESTION 6"
   ]
  },
  {
   "cell_type": "markdown",
   "metadata": {},
   "source": [
    "From the results you obtained in the previous question, find the percentage of the population that is the tipping point for success in a campaign."
   ]
  },
  {
   "cell_type": "markdown",
   "metadata": {},
   "source": [
    "Since we want to calculate the percentage of the population that is the tipping point for success, we can turn this question into a classification problem. In this problem, we are looking to classify the percentage of populations (mempc) to either successfull of not. "
   ]
  },
  {
   "cell_type": "markdown",
   "metadata": {},
   "source": [
    "After that, we have to conclude to a threshold that always classifies the non successful campaigns correctly."
   ]
  },
  {
   "cell_type": "markdown",
   "metadata": {},
   "source": [
    "In other words, I am looking for a high threshold with **0 False Positives** and **maximum True Positives**. Note here that a high threshold:\n",
    "\n",
    "* Decreases the number of False Possitives (that's what I want)\n",
    "* Increases the number of False Negatives (I don't care If I classify a campaign as no successful and in the end it was successful)"
   ]
  },
  {
   "cell_type": "markdown",
   "metadata": {},
   "source": [
    "Thus, we will do a Logistic Regression with sklearn in order to find the ROC curve"
   ]
  },
  {
   "cell_type": "code",
   "execution_count": 34,
   "metadata": {},
   "outputs": [],
   "source": [
    "from sklearn.model_selection import train_test_split \n",
    "from sklearn.linear_model import LogisticRegression\n",
    "from sklearn import metrics"
   ]
  },
  {
   "cell_type": "code",
   "execution_count": 35,
   "metadata": {},
   "outputs": [
    {
     "data": {
      "image/png": "[encoded data removed]",
      "text/plain": [
       "<Figure size 1008x720 with 1 Axes>"
      ]
     },
     "metadata": {},
     "output_type": "display_data"
    }
   ],
   "source": [
    "y_pred_proba = success_mod.predict()\n",
    "fpr, tpr, thresholds = metrics.roc_curve(clear_data.success,  success_mod.predict(X))\n",
    "auc = metrics.roc_auc_score(clear_data.success, success_mod.predict(X))\n",
    "plt.figure(figsize=[14,10])\n",
    "plt.plot(fpr,tpr,label=\"data, auc=\"+str(auc))\n",
    "z = np.linspace(0, 1, 1000)\n",
    "plt.plot(z, z, ':r')\n",
    "plt.legend(loc=4)\n",
    "plt.show()"
   ]
  },
  {
   "cell_type": "code",
   "execution_count": 36,
   "metadata": {},
   "outputs": [],
   "source": [
    "frame = { 'fpr': fpr, 'tpr': tpr, 'thresholds' : thresholds }"
   ]
  },
  {
   "cell_type": "code",
   "execution_count": 37,
   "metadata": {},
   "outputs": [],
   "source": [
    "results = pd.DataFrame(frame)"
   ]
  },
  {
   "cell_type": "code",
   "execution_count": 38,
   "metadata": {},
   "outputs": [
    {
     "data": {
      "text/html": [
       "<div>\n",
       "<style scoped>\n",
       "    .dataframe tbody tr th:only-of-type {\n",
       "        vertical-align: middle;\n",
       "    }\n",
       "\n",
       "    .dataframe tbody tr th {\n",
       "        vertical-align: top;\n",
       "    }\n",
       "\n",
       "    .dataframe thead th {\n",
       "        text-align: right;\n",
       "    }\n",
       "</style>\n",
       "<table border=\"1\" class=\"dataframe\">\n",
       "  <thead>\n",
       "    <tr style=\"text-align: right;\">\n",
       "      <th></th>\n",
       "      <th>fpr</th>\n",
       "      <th>tpr</th>\n",
       "      <th>thresholds</th>\n",
       "    </tr>\n",
       "  </thead>\n",
       "  <tbody>\n",
       "    <tr>\n",
       "      <td>0</td>\n",
       "      <td>0.000000</td>\n",
       "      <td>0.000000</td>\n",
       "      <td>1.927019</td>\n",
       "    </tr>\n",
       "    <tr>\n",
       "      <td>1</td>\n",
       "      <td>0.000000</td>\n",
       "      <td>0.014286</td>\n",
       "      <td>0.927019</td>\n",
       "    </tr>\n",
       "    <tr>\n",
       "      <td>2</td>\n",
       "      <td>0.000000</td>\n",
       "      <td>0.128571</td>\n",
       "      <td>0.791073</td>\n",
       "    </tr>\n",
       "    <tr>\n",
       "      <td>3</td>\n",
       "      <td>0.010753</td>\n",
       "      <td>0.128571</td>\n",
       "      <td>0.790409</td>\n",
       "    </tr>\n",
       "    <tr>\n",
       "      <td>4</td>\n",
       "      <td>0.010753</td>\n",
       "      <td>0.200000</td>\n",
       "      <td>0.747059</td>\n",
       "    </tr>\n",
       "    <tr>\n",
       "      <td>...</td>\n",
       "      <td>...</td>\n",
       "      <td>...</td>\n",
       "      <td>...</td>\n",
       "    </tr>\n",
       "    <tr>\n",
       "      <td>61</td>\n",
       "      <td>0.817204</td>\n",
       "      <td>0.957143</td>\n",
       "      <td>0.189858</td>\n",
       "    </tr>\n",
       "    <tr>\n",
       "      <td>62</td>\n",
       "      <td>0.817204</td>\n",
       "      <td>0.971429</td>\n",
       "      <td>0.181065</td>\n",
       "    </tr>\n",
       "    <tr>\n",
       "      <td>63</td>\n",
       "      <td>0.870968</td>\n",
       "      <td>0.971429</td>\n",
       "      <td>0.155638</td>\n",
       "    </tr>\n",
       "    <tr>\n",
       "      <td>64</td>\n",
       "      <td>0.870968</td>\n",
       "      <td>1.000000</td>\n",
       "      <td>0.146914</td>\n",
       "    </tr>\n",
       "    <tr>\n",
       "      <td>65</td>\n",
       "      <td>1.000000</td>\n",
       "      <td>1.000000</td>\n",
       "      <td>0.090735</td>\n",
       "    </tr>\n",
       "  </tbody>\n",
       "</table>\n",
       "<p>66 rows × 3 columns</p>\n",
       "</div>"
      ],
      "text/plain": [
       "         fpr       tpr  thresholds\n",
       "0   0.000000  0.000000    1.927019\n",
       "1   0.000000  0.014286    0.927019\n",
       "2   0.000000  0.128571    0.791073\n",
       "3   0.010753  0.128571    0.790409\n",
       "4   0.010753  0.200000    0.747059\n",
       "..       ...       ...         ...\n",
       "61  0.817204  0.957143    0.189858\n",
       "62  0.817204  0.971429    0.181065\n",
       "63  0.870968  0.971429    0.155638\n",
       "64  0.870968  1.000000    0.146914\n",
       "65  1.000000  1.000000    0.090735\n",
       "\n",
       "[66 rows x 3 columns]"
      ]
     },
     "execution_count": 38,
     "metadata": {},
     "output_type": "execute_result"
    }
   ],
   "source": [
    "results"
   ]
  },
  {
   "cell_type": "code",
   "execution_count": 39,
   "metadata": {},
   "outputs": [],
   "source": [
    "result = results.loc[results.fpr == 0]"
   ]
  },
  {
   "cell_type": "code",
   "execution_count": 40,
   "metadata": {},
   "outputs": [],
   "source": [
    "result = result.loc[result.tpr == result.tpr.max()]"
   ]
  },
  {
   "cell_type": "code",
   "execution_count": null,
   "metadata": {},
   "outputs": [],
   "source": []
  },
  {
   "cell_type": "code",
   "execution_count": 41,
   "metadata": {},
   "outputs": [],
   "source": [
    "newThresh = result[['thresholds']].values"
   ]
  },
  {
   "cell_type": "markdown",
   "metadata": {},
   "source": [
    "So the threshold is 1.92 or 0.92 since threshold adds 1 to the first value of the array. So back to the S curve diagram..."
   ]
  },
  {
   "cell_type": "code",
   "execution_count": 42,
   "metadata": {},
   "outputs": [
    {
     "data": {
      "text/plain": [
       "<matplotlib.lines.Line2D at 0x7f072e9e8ac8>"
      ]
     },
     "execution_count": 42,
     "metadata": {},
     "output_type": "execute_result"
    },
    {
     "data": {
      "image/png": "[encoded data removed]",
      "text/plain": [
       "<Figure size 1008x720 with 1 Axes>"
      ]
     },
     "metadata": {},
     "output_type": "display_data"
    }
   ],
   "source": [
    "X = clear_data[['mempc' , 'lnpop']]\n",
    "y = clear_data.success\n",
    "x = X.iloc[:, 0]\n",
    "plt.figure(figsize=[14,10])\n",
    "plt.scatter(x,y)\n",
    "sns.regplot(x, y, line_kws={'color': 'red'},data=data, logistic=True)\n",
    "plt.axhline(y=newThresh, color='g', linestyle='--')"
   ]
  },
  {
   "cell_type": "markdown",
   "metadata": {},
   "source": [
    "We can't use data with missing values, so we drop them."
   ]
  },
  {
   "cell_type": "code",
   "execution_count": 43,
   "metadata": {},
   "outputs": [],
   "source": [
    "clear_data = data.loc[data.mempc.notna()]"
   ]
  },
  {
   "cell_type": "markdown",
   "metadata": {},
   "source": [
    "The regression will have as independant variables **mempc** and **lnpop** and as binary dependant variable **success**"
   ]
  },
  {
   "cell_type": "code",
   "execution_count": 44,
   "metadata": {},
   "outputs": [],
   "source": [
    "X = clear_data[['mempc' , 'lnpop']]\n",
    "y = clear_data.success\n",
    "X_train,X_test,y_train,y_test=train_test_split(X,y,test_size=0.3,random_state=0)"
   ]
  },
  {
   "cell_type": "code",
   "execution_count": 45,
   "metadata": {},
   "outputs": [
    {
     "name": "stderr",
     "output_type": "stream",
     "text": [
      "/home/ion/.local/lib/python3.6/site-packages/sklearn/linear_model/logistic.py:432: FutureWarning: Default solver will be changed to 'lbfgs' in 0.22. Specify a solver to silence this warning.\n",
      "  FutureWarning)\n"
     ]
    },
    {
     "data": {
      "text/plain": [
       "LogisticRegression(C=1.0, class_weight=None, dual=False, fit_intercept=True,\n",
       "                   intercept_scaling=1, l1_ratio=None, max_iter=100,\n",
       "                   multi_class='warn', n_jobs=None, penalty='l2',\n",
       "                   random_state=None, solver='warn', tol=0.0001, verbose=0,\n",
       "                   warm_start=False)"
      ]
     },
     "execution_count": 45,
     "metadata": {},
     "output_type": "execute_result"
    }
   ],
   "source": [
    "clf = LogisticRegression()\n",
    "clf.fit(X_train,y_train)"
   ]
  },
  {
   "cell_type": "code",
   "execution_count": 46,
   "metadata": {},
   "outputs": [
    {
     "data": {
      "text/plain": [
       "<matplotlib.axes._subplots.AxesSubplot at 0x7f0731f07d68>"
      ]
     },
     "execution_count": 46,
     "metadata": {},
     "output_type": "execute_result"
    },
    {
     "data": {
      "image/png": "[encoded data removed]",
      "text/plain": [
       "<Figure size 1008x720 with 1 Axes>"
      ]
     },
     "metadata": {},
     "output_type": "display_data"
    }
   ],
   "source": [
    "y = clf.predict(X_train)\n",
    "x = X_train.iloc[:, 0]\n",
    "plt.figure(figsize=[14,10])\n",
    "plt.scatter(x,y)\n",
    "sns.regplot(x, y, line_kws={'color': 'red'},data=data, logistic=True)"
   ]
  },
  {
   "cell_type": "code",
   "execution_count": null,
   "metadata": {},
   "outputs": [],
   "source": []
  },
  {
   "cell_type": "code",
   "execution_count": 47,
   "metadata": {},
   "outputs": [
    {
     "data": {
      "text/plain": [
       "array([[21,  9],\n",
       "       [13,  6]])"
      ]
     },
     "execution_count": 47,
     "metadata": {},
     "output_type": "execute_result"
    }
   ],
   "source": [
    "y_pred = clf.predict(X_test)\n",
    "\n",
    "cnf_matrix = metrics.confusion_matrix(y_test, y_pred)\n",
    "\n",
    "cnf_matrix"
   ]
  },
  {
   "cell_type": "code",
   "execution_count": 48,
   "metadata": {},
   "outputs": [
    {
     "data": {
      "text/plain": [
       "Text(0.5, 257.44, 'Predicted label')"
      ]
     },
     "execution_count": 48,
     "metadata": {},
     "output_type": "execute_result"
    },
    {
     "data": {
      "image/png": "[encoded data removed]",
      "text/plain": [
       "<Figure size 432x288 with 2 Axes>"
      ]
     },
     "metadata": {},
     "output_type": "display_data"
    }
   ],
   "source": [
    "fig, ax = plt.subplots()\n",
    "class_names = ['success', 'no success']\n",
    "tick_marks = np.arange(len(class_names))\n",
    "plt.xticks(tick_marks, class_names)\n",
    "plt.yticks(tick_marks, class_names)\n",
    "sns.heatmap(pd.DataFrame(cnf_matrix), annot=True, cmap=\"Blues\" ,fmt='g')\n",
    "ax.xaxis.set_label_position(\"top\")\n",
    "plt.tight_layout()\n",
    "plt.title('Confusion matrix', y=1.1)\n",
    "plt.ylabel('Actual label')\n",
    "plt.xlabel('Predicted label')"
   ]
  },
  {
   "cell_type": "code",
   "execution_count": 49,
   "metadata": {},
   "outputs": [
    {
     "name": "stdout",
     "output_type": "stream",
     "text": [
      "Accuracy: 0.5510204081632653\n",
      "Precision: 0.4\n",
      "Recall: 0.3157894736842105\n"
     ]
    }
   ],
   "source": [
    "print(\"Accuracy:\",metrics.accuracy_score(y_test, y_pred))\n",
    "print(\"Precision:\",metrics.precision_score(y_test, y_pred))\n",
    "print(\"Recall:\",metrics.recall_score(y_test, y_pred))"
   ]
  },
  {
   "cell_type": "code",
   "execution_count": 50,
   "metadata": {},
   "outputs": [
    {
     "data": {
      "image/png": "[encoded data removed]",
      "text/plain": [
       "<Figure size 1008x720 with 1 Axes>"
      ]
     },
     "metadata": {},
     "output_type": "display_data"
    }
   ],
   "source": [
    "y_pred_proba = clf.predict_proba(X_test)[::, 1]\n",
    "# y_pred_proba\n",
    "fpr, tpr, thresholds = metrics.roc_curve(y_test,  y_pred_proba)\n",
    "auc = metrics.roc_auc_score(y_test, y_pred_proba)\n",
    "plt.figure(figsize=[14,10])\n",
    "plt.plot(fpr,tpr,label=\"data, auc=\"+str(auc))\n",
    "z = np.linspace(0, 1, 1000)\n",
    "plt.plot(z, z, ':r')\n",
    "plt.legend(loc=4)\n",
    "plt.show()"
   ]
  },
  {
   "cell_type": "code",
   "execution_count": 51,
   "metadata": {},
   "outputs": [
    {
     "data": {
      "text/plain": [
       "1.8319327617365981"
      ]
     },
     "execution_count": 51,
     "metadata": {},
     "output_type": "execute_result"
    }
   ],
   "source": [
    "thresholds.max()"
   ]
  },
  {
   "cell_type": "markdown",
   "metadata": {},
   "source": [
    "The **ROC** graph summarizes all of the confusion matrices that each threshold produced"
   ]
  },
  {
   "cell_type": "code",
   "execution_count": 52,
   "metadata": {},
   "outputs": [
    {
     "data": {
      "text/plain": [
       "array([1.83193276, 0.83193276, 0.64814451, 0.57455531, 0.53130392,\n",
       "       0.48494849, 0.4785125 , 0.46629097, 0.44887535, 0.43381985,\n",
       "       0.43353797, 0.42937914, 0.42398353, 0.41129393, 0.40113737,\n",
       "       0.39336492, 0.3639317 , 0.35041862, 0.33634864, 0.20031883,\n",
       "       0.18295636, 0.12964225])"
      ]
     },
     "execution_count": 52,
     "metadata": {},
     "output_type": "execute_result"
    }
   ],
   "source": [
    "thresholds"
   ]
  },
  {
   "cell_type": "code",
   "execution_count": 53,
   "metadata": {},
   "outputs": [],
   "source": [
    "from sklearn.ensemble import RandomForestClassifier"
   ]
  },
  {
   "cell_type": "code",
   "execution_count": 54,
   "metadata": {},
   "outputs": [],
   "source": [
    "rf = RandomForestClassifier(n_estimators=100, max_depth=2, random_state=0)"
   ]
  },
  {
   "cell_type": "code",
   "execution_count": 55,
   "metadata": {},
   "outputs": [
    {
     "data": {
      "text/plain": [
       "RandomForestClassifier(bootstrap=True, class_weight=None, criterion='gini',\n",
       "                       max_depth=2, max_features='auto', max_leaf_nodes=None,\n",
       "                       min_impurity_decrease=0.0, min_impurity_split=None,\n",
       "                       min_samples_leaf=1, min_samples_split=2,\n",
       "                       min_weight_fraction_leaf=0.0, n_estimators=100,\n",
       "                       n_jobs=None, oob_score=False, random_state=0, verbose=0,\n",
       "                       warm_start=False)"
      ]
     },
     "execution_count": 55,
     "metadata": {},
     "output_type": "execute_result"
    }
   ],
   "source": [
    "rf.fit(X_train, y_train)"
   ]
  },
  {
   "cell_type": "code",
   "execution_count": 56,
   "metadata": {},
   "outputs": [
    {
     "data": {
      "image/png": "[encoded data removed]",
      "text/plain": [
       "<Figure size 1008x720 with 1 Axes>"
      ]
     },
     "metadata": {},
     "output_type": "display_data"
    }
   ],
   "source": [
    "y_pred_proba = rf.predict_proba(X_test)[::,1]\n",
    "fpr, tpr, thresholds = metrics.roc_curve(y_test,  y_pred_proba)\n",
    "auc = metrics.roc_auc_score(y_test, y_pred_proba)\n",
    "plt.figure(figsize=[14,10])\n",
    "plt.plot(fpr,tpr,label=\"data, auc=\"+str(auc))\n",
    "z = np.linspace(0, 1, 1000)\n",
    "plt.plot(z, z, ':r')\n",
    "plt.legend(loc=4)\n",
    "plt.show()"
   ]
  },
  {
   "cell_type": "code",
   "execution_count": 57,
   "metadata": {},
   "outputs": [
    {
     "data": {
      "text/plain": [
       "array([1.81306159, 0.81306159, 0.72404072, 0.71739992, 0.7154996 ,\n",
       "       0.67901486, 0.58204862, 0.52423138, 0.51126987, 0.47516129,\n",
       "       0.47159471, 0.4715705 , 0.46855872, 0.43055979, 0.42309555,\n",
       "       0.42050296, 0.41146306, 0.40844753, 0.40521676, 0.39985176,\n",
       "       0.35211256, 0.35115027, 0.34175595, 0.33969236, 0.32762414,\n",
       "       0.28673963, 0.24961495, 0.2304925 , 0.17510109, 0.16538512])"
      ]
     },
     "execution_count": 57,
     "metadata": {},
     "output_type": "execute_result"
    }
   ],
   "source": [
    "thresholds"
   ]
  },
  {
   "cell_type": "code",
   "execution_count": null,
   "metadata": {},
   "outputs": [],
   "source": []
  },
  {
   "cell_type": "code",
   "execution_count": null,
   "metadata": {},
   "outputs": [],
   "source": []
  },
  {
   "cell_type": "code",
   "execution_count": null,
   "metadata": {},
   "outputs": [],
   "source": []
  },
  {
   "cell_type": "code",
   "execution_count": null,
   "metadata": {},
   "outputs": [],
   "source": []
  },
  {
   "cell_type": "code",
   "execution_count": null,
   "metadata": {},
   "outputs": [],
   "source": []
  },
  {
   "cell_type": "code",
   "execution_count": null,
   "metadata": {},
   "outputs": [],
   "source": []
  },
  {
   "cell_type": "markdown",
   "metadata": {},
   "source": [
    "## Question 7"
   ]
  },
  {
   "cell_type": "code",
   "execution_count": 58,
   "metadata": {},
   "outputs": [
    {
     "name": "stdout",
     "output_type": "stream",
     "text": [
      "Optimization terminated successfully.\n",
      "         Current function value: 0.567143\n",
      "         Iterations 6\n"
     ]
    },
    {
     "data": {
      "text/html": [
       "<table class=\"simpletable\">\n",
       "<tr>\n",
       "        <td>Model:</td>              <td>Logit</td>      <td>Pseudo R-squared:</td>    <td>0.163</td>  \n",
       "</tr>\n",
       "<tr>\n",
       "  <td>Dependent Variable:</td>      <td>success</td>           <td>AIC:</td>         <td>169.9344</td> \n",
       "</tr>\n",
       "<tr>\n",
       "         <td>Date:</td>        <td>2019-11-24 21:04</td>       <td>BIC:</td>         <td>184.6782</td> \n",
       "</tr>\n",
       "<tr>\n",
       "   <td>No. Observations:</td>         <td>141</td>        <td>Log-Likelihood:</td>    <td>-79.967</td> \n",
       "</tr>\n",
       "<tr>\n",
       "       <td>Df Model:</td>              <td>4</td>            <td>LL-Null:</td>        <td>-95.506</td> \n",
       "</tr>\n",
       "<tr>\n",
       "     <td>Df Residuals:</td>           <td>136</td>         <td>LLR p-value:</td>    <td>2.9528e-06</td>\n",
       "</tr>\n",
       "<tr>\n",
       "      <td>Converged:</td>           <td>1.0000</td>           <td>Scale:</td>         <td>1.0000</td>  \n",
       "</tr>\n",
       "<tr>\n",
       "    <td>No. Iterations:</td>        <td>6.0000</td>              <td></td>               <td></td>     \n",
       "</tr>\n",
       "</table>\n",
       "<table class=\"simpletable\">\n",
       "<tr>\n",
       "      <td></td>       <th>Coef.</th>  <th>Std.Err.</th>    <th>z</th>     <th>P>|z|</th> <th>[0.025</th>  <th>0.975]</th> \n",
       "</tr>\n",
       "<tr>\n",
       "  <th>Intercept</th> <td>-0.1085</td>  <td>1.4130</td>  <td>-0.0768</td> <td>0.9388</td> <td>-2.8779</td> <td>2.6609</td> \n",
       "</tr>\n",
       "<tr>\n",
       "  <th>nonviol</th>   <td>0.9048</td>   <td>0.4636</td>  <td>1.9517</td>  <td>0.0510</td> <td>-0.0038</td> <td>1.8134</td> \n",
       "</tr>\n",
       "<tr>\n",
       "  <th>tpolity</th>   <td>0.0520</td>   <td>0.0298</td>  <td>1.7439</td>  <td>0.0812</td> <td>-0.0064</td> <td>0.1104</td> \n",
       "</tr>\n",
       "<tr>\n",
       "  <th>lnpop</th>     <td>-0.4363</td>  <td>0.1423</td>  <td>-3.0671</td> <td>0.0022</td> <td>-0.7151</td> <td>-0.1575</td>\n",
       "</tr>\n",
       "<tr>\n",
       "  <th>lmembers</th>  <td>0.3751</td>   <td>0.1282</td>  <td>2.9264</td>  <td>0.0034</td> <td>0.1239</td>  <td>0.6263</td> \n",
       "</tr>\n",
       "</table>"
      ],
      "text/plain": [
       "<class 'statsmodels.iolib.summary2.Summary'>\n",
       "\"\"\"\n",
       "                         Results: Logit\n",
       "=================================================================\n",
       "Model:              Logit            Pseudo R-squared: 0.163     \n",
       "Dependent Variable: success          AIC:              169.9344  \n",
       "Date:               2019-11-24 21:04 BIC:              184.6782  \n",
       "No. Observations:   141              Log-Likelihood:   -79.967   \n",
       "Df Model:           4                LL-Null:          -95.506   \n",
       "Df Residuals:       136              LLR p-value:      2.9528e-06\n",
       "Converged:          1.0000           Scale:            1.0000    \n",
       "No. Iterations:     6.0000                                       \n",
       "------------------------------------------------------------------\n",
       "               Coef.   Std.Err.     z     P>|z|    [0.025   0.975]\n",
       "------------------------------------------------------------------\n",
       "Intercept     -0.1085    1.4130  -0.0768  0.9388  -2.8779   2.6609\n",
       "nonviol        0.9048    0.4636   1.9517  0.0510  -0.0038   1.8134\n",
       "tpolity        0.0520    0.0298   1.7439  0.0812  -0.0064   0.1104\n",
       "lnpop         -0.4363    0.1423  -3.0671  0.0022  -0.7151  -0.1575\n",
       "lmembers       0.3751    0.1282   2.9264  0.0034   0.1239   0.6263\n",
       "=================================================================\n",
       "\n",
       "\"\"\""
      ]
     },
     "execution_count": 58,
     "metadata": {},
     "output_type": "execute_result"
    }
   ],
   "source": [
    "success_mod = logit(\"success ~ nonviol + tpolity + lnpop + lmembers\", clear_data).fit()\n",
    "success_mod.summary2()"
   ]
  },
  {
   "cell_type": "code",
   "execution_count": 59,
   "metadata": {},
   "outputs": [
    {
     "name": "stdout",
     "output_type": "stream",
     "text": [
      "Optimization terminated successfully.\n",
      "         Current function value: 0.591713\n",
      "         Iterations 5\n"
     ]
    },
    {
     "name": "stderr",
     "output_type": "stream",
     "text": [
      "/home/ion/.local/lib/python3.6/site-packages/statsmodels/base/model.py:1286: RuntimeWarning: invalid value encountered in sqrt\n",
      "  bse_ = np.sqrt(np.diag(self.cov_params()))\n",
      "/home/ion/.local/lib/python3.6/site-packages/scipy/stats/_distn_infrastructure.py:901: RuntimeWarning: invalid value encountered in greater\n",
      "  return (a < x) & (x < b)\n",
      "/home/ion/.local/lib/python3.6/site-packages/scipy/stats/_distn_infrastructure.py:901: RuntimeWarning: invalid value encountered in less\n",
      "  return (a < x) & (x < b)\n",
      "/home/ion/.local/lib/python3.6/site-packages/scipy/stats/_distn_infrastructure.py:1892: RuntimeWarning: invalid value encountered in less_equal\n",
      "  cond2 = cond0 & (x <= _a)\n"
     ]
    },
    {
     "data": {
      "text/html": [
       "<table class=\"simpletable\">\n",
       "<tr>\n",
       "        <td>Model:</td>              <td>Logit</td>      <td>Pseudo R-squared:</td>    <td>0.083</td>  \n",
       "</tr>\n",
       "<tr>\n",
       "  <td>Dependent Variable:</td>      <td>success</td>           <td>AIC:</td>         <td>396.2465</td> \n",
       "</tr>\n",
       "<tr>\n",
       "         <td>Date:</td>        <td>2019-11-24 21:04</td>       <td>BIC:</td>         <td>422.6901</td> \n",
       "</tr>\n",
       "<tr>\n",
       "   <td>No. Observations:</td>         <td>323</td>        <td>Log-Likelihood:</td>    <td>-191.12</td> \n",
       "</tr>\n",
       "<tr>\n",
       "       <td>Df Model:</td>              <td>6</td>            <td>LL-Null:</td>        <td>-208.47</td> \n",
       "</tr>\n",
       "<tr>\n",
       "     <td>Df Residuals:</td>           <td>316</td>         <td>LLR p-value:</td>    <td>4.9505e-06</td>\n",
       "</tr>\n",
       "<tr>\n",
       "      <td>Converged:</td>           <td>1.0000</td>           <td>Scale:</td>         <td>1.0000</td>  \n",
       "</tr>\n",
       "<tr>\n",
       "    <td>No. Iterations:</td>        <td>5.0000</td>              <td></td>               <td></td>     \n",
       "</tr>\n",
       "</table>\n",
       "<table class=\"simpletable\">\n",
       "<tr>\n",
       "       <td></td>       <th>Coef.</th>  <th>Std.Err.</th>    <th>z</th>    <th>P>|z|</th> <th>[0.025</th> <th>0.975]</th>\n",
       "</tr>\n",
       "<tr>\n",
       "  <th>Intercept</th>  <td>-0.9785</td>    <td>nan</td>     <td>nan</td>    <td>nan</td>    <td>nan</td>    <td>nan</td> \n",
       "</tr>\n",
       "<tr>\n",
       "  <th>nonviol</th>    <td>1.2582</td>   <td>0.2648</td>  <td>4.7515</td> <td>0.0000</td> <td>0.7392</td> <td>1.7771</td>\n",
       "</tr>\n",
       "<tr>\n",
       "  <th>americas</th>   <td>0.3016</td>     <td>nan</td>     <td>nan</td>    <td>nan</td>    <td>nan</td>    <td>nan</td> \n",
       "</tr>\n",
       "<tr>\n",
       "  <th>asia</th>       <td>-0.4977</td>    <td>nan</td>     <td>nan</td>    <td>nan</td>    <td>nan</td>    <td>nan</td> \n",
       "</tr>\n",
       "<tr>\n",
       "  <th>africa</th>     <td>0.2647</td>     <td>nan</td>     <td>nan</td>    <td>nan</td>    <td>nan</td>    <td>nan</td> \n",
       "</tr>\n",
       "<tr>\n",
       "  <th>europe</th>     <td>-0.2938</td>    <td>nan</td>     <td>nan</td>    <td>nan</td>    <td>nan</td>    <td>nan</td> \n",
       "</tr>\n",
       "<tr>\n",
       "  <th>fsu</th>        <td>0.0056</td>     <td>nan</td>     <td>nan</td>    <td>nan</td>    <td>nan</td>    <td>nan</td> \n",
       "</tr>\n",
       "<tr>\n",
       "  <th>middleeast</th> <td>-0.7589</td>    <td>nan</td>     <td>nan</td>    <td>nan</td>    <td>nan</td>    <td>nan</td> \n",
       "</tr>\n",
       "</table>"
      ],
      "text/plain": [
       "<class 'statsmodels.iolib.summary2.Summary'>\n",
       "\"\"\"\n",
       "                         Results: Logit\n",
       "=================================================================\n",
       "Model:              Logit            Pseudo R-squared: 0.083     \n",
       "Dependent Variable: success          AIC:              396.2465  \n",
       "Date:               2019-11-24 21:04 BIC:              422.6901  \n",
       "No. Observations:   323              Log-Likelihood:   -191.12   \n",
       "Df Model:           6                LL-Null:          -208.47   \n",
       "Df Residuals:       316              LLR p-value:      4.9505e-06\n",
       "Converged:          1.0000           Scale:            1.0000    \n",
       "No. Iterations:     5.0000                                       \n",
       "-------------------------------------------------------------------\n",
       "              Coef.    Std.Err.     z      P>|z|    [0.025   0.975]\n",
       "-------------------------------------------------------------------\n",
       "Intercept    -0.9785        nan      nan      nan      nan      nan\n",
       "nonviol       1.2582     0.2648   4.7515   0.0000   0.7392   1.7771\n",
       "americas      0.3016        nan      nan      nan      nan      nan\n",
       "asia         -0.4977        nan      nan      nan      nan      nan\n",
       "africa        0.2647        nan      nan      nan      nan      nan\n",
       "europe       -0.2938        nan      nan      nan      nan      nan\n",
       "fsu           0.0056        nan      nan      nan      nan      nan\n",
       "middleeast   -0.7589        nan      nan      nan      nan      nan\n",
       "=================================================================\n",
       "\n",
       "\"\"\""
      ]
     },
     "execution_count": 59,
     "metadata": {},
     "output_type": "execute_result"
    }
   ],
   "source": [
    "success_mod = logit(\"success ~ nonviol + americas + asia + africa + europe + fsu + middleeast\", data).fit()\n",
    "success_mod.summary2()"
   ]
  },
  {
   "cell_type": "code",
   "execution_count": null,
   "metadata": {},
   "outputs": [],
   "source": []
  },
  {
   "cell_type": "code",
   "execution_count": null,
   "metadata": {},
   "outputs": [],
   "source": []
  },
  {
   "cell_type": "code",
   "execution_count": null,
   "metadata": {},
   "outputs": [],
   "source": []
  },
  {
   "cell_type": "code",
   "execution_count": null,
   "metadata": {},
   "outputs": [],
   "source": []
  },
  {
   "cell_type": "code",
   "execution_count": null,
   "metadata": {},
   "outputs": [],
   "source": []
  }
 ],
 "metadata": {
  "kernelspec": {
   "display_name": "Python 3",
   "language": "python",
   "name": "python3"
  },
  "language_info": {
   "codemirror_mode": {
    "name": "ipython",
    "version": 3
   },
   "file_extension": ".py",
   "mimetype": "text/x-python",
   "name": "python",
   "nbconvert_exporter": "python",
   "pygments_lexer": "ipython3",
   "version": "3.6.8"
  }
 },
 "nbformat": 4,
 "nbformat_minor": 2
}
